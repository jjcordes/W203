{
 "cells": [
  {
   "cell_type": "code",
   "execution_count": 10,
   "metadata": {
    "collapsed": false
   },
   "outputs": [
    {
     "name": "stdout",
     "output_type": "stream",
     "text": [
      "Enter the price of a meal: 23\n",
      "\n",
      "A 16% tip would be $ 3.68\n",
      "The total including tip would be $ 26.68\n"
     ]
    }
   ],
   "source": [
    "try:\n",
    "    price = float(input(\"Enter the price of a meal: \"))\n",
    "\n",
    "    tip = price * 0.16\n",
    "    total = price + tip\n",
    "\n",
    "    print(\"\")\n",
    "    print(\"A 16% tip would be $\", format(tip, '.2f'))\n",
    "    print(\"The total including tip would be $\", format(total, '.2f'))\n",
    "\n",
    "except ValueError:\n",
    "    print(\"\")\n",
    "    print(\"No clowning around.  Should be a number.\")"
   ]
  },
  {
   "cell_type": "code",
   "execution_count": 11,
   "metadata": {
    "collapsed": false
   },
   "outputs": [
    {
     "name": "stdout",
     "output_type": "stream",
     "text": [
      "How about a number of gallons of gasoline? 23\n",
      "\n",
      "You entered: 23.00 gallons of gas.\n",
      "That's the same as 87.06 liters.\n",
      "It would take about 1.18 barrels of oil to produce that.\n",
      "That amount of gas would cost about $83.95 pre-Obama.\n"
     ]
    }
   ],
   "source": [
    "try:\n",
    "    literConv = 3.7854   #1 gallon is equivalent to 3.7854 liters.\n",
    "    barrelConv = 19.5    #1 barrel of oil produces 19.5 gallons of gas.\n",
    "    avgPrice = 3.65      #The average price of gas was about $3.65 before Obama fixed everything.\n",
    "\n",
    "    gallons = float(input(\"How about a number of gallons of gasoline? \"))\n",
    "\n",
    "    print(\"\")\n",
    "    print(\"You entered: \" + format(gallons, '.2f') + \" gallons of gas.\")\n",
    "    print(\"That's the same as \" + format(gallons * literConv, '.2f') + \" liters.\")\n",
    "    print(\"It would take about \" + format(gallons / barrelConv, '.2f') + \" barrels of oil to produce that.\")\n",
    "    print(\"That amount of gas would cost about $\" + format(gallons * avgPrice, '.2f') + \" pre-Obama.\")\n",
    "\n",
    "except ValueError:\n",
    "    print (\"You, sir, are acting like a clown.  Numbers only, please.\")\n",
    "    "
   ]
  },
  {
   "cell_type": "code",
   "execution_count": 12,
   "metadata": {
    "collapsed": false
   },
   "outputs": [
    {
     "name": "stdout",
     "output_type": "stream",
     "text": [
      "Enter your name: jay cordes\n",
      "\n",
      "Ayjay Ordescay \n"
     ]
    }
   ],
   "source": [
    "name = input(\"Enter your name: \").split()\n",
    "print(\"\")\n",
    "\n",
    "response = \"\"\n",
    "\n",
    "for word in name:\n",
    "    response += word[1:].title() + word[0].lower() + 'ay' + \" \" \n",
    "\n",
    "print(response)\n"
   ]
  },
  {
   "cell_type": "code",
   "execution_count": 13,
   "metadata": {
    "collapsed": false
   },
   "outputs": [
    {
     "name": "stdout",
     "output_type": "stream",
     "text": [
      "Please enter the first number: 23\n",
      "Please enter the second number: 23\n",
      "\n",
      "The arithmetic mean is: 23.0\n",
      "The geometric mean is: 6.782329983125268\n",
      "The root-mean-square is: 32.526911934581186\n"
     ]
    }
   ],
   "source": [
    "a = float(input(\"Please enter the first number: \"))\n",
    "b = float(input(\"Please enter the second number: \"))\n",
    "          \n",
    "print(\"\")\n",
    "print(\"The arithmetic mean is: \" + str((a+b)/2))\n",
    "print(\"The geometric mean is: \" + str((a+b)**0.5))\n",
    "print(\"The root-mean-square is: \" + str((a**2 + b**2)**0.5))\n",
    "          "
   ]
  },
  {
   "cell_type": "code",
   "execution_count": null,
   "metadata": {
    "collapsed": true
   },
   "outputs": [],
   "source": []
  }
 ],
 "metadata": {
  "kernelspec": {
   "display_name": "Python 3",
   "language": "python",
   "name": "python3"
  },
  "language_info": {
   "codemirror_mode": {
    "name": "ipython",
    "version": 3
   },
   "file_extension": ".py",
   "mimetype": "text/x-python",
   "name": "python",
   "nbconvert_exporter": "python",
   "pygments_lexer": "ipython3",
   "version": "3.3.5"
  }
 },
 "nbformat": 4,
 "nbformat_minor": 0
}
