{
 "cells": [
  {
   "cell_type": "markdown",
   "metadata": {},
   "source": [
    "## Instructions\n",
    "\n",
    "The final exam is designed to evaluate your grasp of key theoretical concepts of pandas and python. While we pull concepts from the first part of this course, the majority of it is from the second part.  \n",
    "\n",
    "- This is an individual exam. Do not discuss your work with classmates.\n",
    "- The questions do not increase in hardness. However some questions are connected with previous work that you had to do in the previous section.\n",
    "- You will have 90 minutes + 5 minutes for submission. Late submissions will be penalized.\n",
    "\n",
    "## The Data\n",
    "In this data set, we will analyze airline reviews that we can see in the above table. These will be compound queries, so you may have to do a grouping then divide one part by another part. (Note that an Internet search will not give you the answers.)\n",
    "\n",
    "The dataset is bundled with the exam however it is also available at this link: https://github.com/quankiquanki/skytrax-reviews-dataset if you find the need to reference any other details. However everything you need (regarding the dataset) can be found in this notebook."
   ]
  },
  {
   "cell_type": "code",
   "execution_count": 136,
   "metadata": {
    "collapsed": false
   },
   "outputs": [
    {
     "name": "stdout",
     "output_type": "stream",
     "text": [
      "0.18.0\n",
      "1.10.4\n"
     ]
    }
   ],
   "source": [
    "# import numpy and pandas, and DataFrame / Series\n",
    "import numpy as np\n",
    "import pandas as pd\n",
    "from pandas import DataFrame, Series\n",
    "import datetime\n",
    "\n",
    "# Set some pandas options\n",
    "pd.set_option('display.notebook_repr_html', False)\n",
    "pd.set_option('display.max_columns', 200)\n",
    "pd.set_option('display.max_rows', 200)\n",
    "\n",
    "# And some items for matplotlib\n",
    "%matplotlib inline \n",
    "import matplotlib.pyplot as plt\n",
    "# pd.options.display.mpl_style = 'default'\n",
    "\n",
    "print(pd.__version__)\n",
    "print(np.__version__)\n"
   ]
  },
  {
   "cell_type": "code",
   "execution_count": 137,
   "metadata": {
    "collapsed": false
   },
   "outputs": [
    {
     "data": {
      "text/plain": [
       "'C:\\\\Users\\\\Jay\\\\MIDSPython (copied CUsers.babunCygwinHomeJay)\\\\final2\\\\final'"
      ]
     },
     "execution_count": 137,
     "metadata": {},
     "output_type": "execute_result"
    }
   ],
   "source": [
    "pwd"
   ]
  },
  {
   "cell_type": "code",
   "execution_count": 138,
   "metadata": {
    "collapsed": false,
    "scrolled": false
   },
   "outputs": [
    {
     "data": {
      "text/plain": [
       "    airline_name                            link  \\\n",
       "0  adria-airways  /airline-reviews/adria-airways   \n",
       "1  adria-airways  /airline-reviews/adria-airways   \n",
       "2  adria-airways  /airline-reviews/adria-airways   \n",
       "3  adria-airways  /airline-reviews/adria-airways   \n",
       "4  adria-airways  /airline-reviews/adria-airways   \n",
       "\n",
       "                           title        author author_country        date  \\\n",
       "0  Adria Airways customer review         D Ito        Germany  2015-04-10   \n",
       "1  Adria Airways customer review  Ron Kuhlmann  United States  2015-01-05   \n",
       "2  Adria Airways customer review       E Albin    Switzerland  2014-09-14   \n",
       "3  Adria Airways customer review  Tercon Bojan      Singapore  2014-09-06   \n",
       "4  Adria Airways customer review       L James         Poland  2014-06-16   \n",
       "\n",
       "                                             content aircraft type_traveller  \\\n",
       "0  Outbound flight FRA/PRN A319. 2 hours 10 min f...      NaN            NaN   \n",
       "1  Two short hops ZRH-LJU and LJU-VIE. Very fast ...      NaN            NaN   \n",
       "2  Flew Zurich-Ljubljana on JP365 newish CRJ900. ...      NaN            NaN   \n",
       "3  Adria serves this 100 min flight from Ljubljan...      NaN            NaN   \n",
       "4  WAW-SKJ Economy. No free snacks or drinks on t...      NaN            NaN   \n",
       "\n",
       "      cabin_flown route  overall_rating  seat_comfort_rating  \\\n",
       "0         Economy   NaN             7.0                  4.0   \n",
       "1  Business Class   NaN            10.0                  4.0   \n",
       "2         Economy   NaN             9.0                  5.0   \n",
       "3  Business Class   NaN             8.0                  4.0   \n",
       "4         Economy   NaN             4.0                  4.0   \n",
       "\n",
       "   cabin_staff_rating  food_beverages_rating  inflight_entertainment_rating  \\\n",
       "0                 4.0                    4.0                            0.0   \n",
       "1                 5.0                    4.0                            1.0   \n",
       "2                 5.0                    4.0                            0.0   \n",
       "3                 4.0                    3.0                            1.0   \n",
       "4                 2.0                    1.0                            2.0   \n",
       "\n",
       "   ground_service_rating  wifi_connectivity_rating  value_money_rating  \\\n",
       "0                    NaN                       NaN                 4.0   \n",
       "1                    NaN                       NaN                 5.0   \n",
       "2                    NaN                       NaN                 5.0   \n",
       "3                    NaN                       NaN                 4.0   \n",
       "4                    NaN                       NaN                 2.0   \n",
       "\n",
       "   recommended  \n",
       "0            1  \n",
       "1            1  \n",
       "2            1  \n",
       "3            1  \n",
       "4            0  "
      ]
     },
     "execution_count": 138,
     "metadata": {},
     "output_type": "execute_result"
    }
   ],
   "source": [
    "df = pd.read_csv(\"airline.csv\")\n",
    "df.head()"
   ]
  },
  {
   "cell_type": "markdown",
   "metadata": {},
   "source": [
    "# Q0.0 (20 Points)\n",
    "\n",
    "Plot a boxplot of all of the columns that include the word rating in them. You'll need to format this as well to print legibly. Please set the size of the figure to 10 x 10, and set the rotation of the labels to be 30 degrees."
   ]
  },
  {
   "cell_type": "code",
   "execution_count": 139,
   "metadata": {
    "collapsed": false
   },
   "outputs": [
    {
     "name": "stderr",
     "output_type": "stream",
     "text": [
      "C:\\Users\\Jay\\Anaconda3\\lib\\site-packages\\ipykernel\\__main__.py:3: FutureWarning: \n",
      "The default value for 'return_type' will change to 'axes' in a future release.\n",
      " To use the future behavior now, set return_type='axes'.\n",
      " To keep the previous behavior and silence this warning, set return_type='dict'.\n",
      "  app.launch_new_instance()\n"
     ]
    },
    {
     "data": {
      "image/png": "[encoded data removed]",
      "text/plain": [
       "<matplotlib.figure.Figure at 0x32eac630>"
      ]
     },
     "metadata": {},
     "output_type": "display_data"
    }
   ],
   "source": [
    "df.boxplot(['overall_rating', 'seat_comfort_rating', 'cabin_staff_rating', 'food_beverages_rating',\n",
    "           'inflight_entertainment_rating', 'ground_service_rating', 'wifi_connectivity_rating', \n",
    "           'value_money_rating'], figsize=(10,10))\n",
    "plt.xticks(rotation=30)\n",
    "plt.show()"
   ]
  },
  {
   "cell_type": "markdown",
   "metadata": {},
   "source": [
    "# Q1.1 (20 points)\n",
    "\n",
    "For every airline, what is the proportion of recommended reviews (`recommended == 1`)? In other words, for every airline, what percentage of reviews are positive? Sort them least to greatest and print out the first 10."
   ]
  },
  {
   "cell_type": "code",
   "execution_count": 140,
   "metadata": {
    "collapsed": false,
    "scrolled": false
   },
   "outputs": [
    {
     "data": {
      "text/plain": [
       "                     mean\n",
       "airline_name             \n",
       "sol-lineas-aereas     0.0\n",
       "air-cairo-user        0.0\n",
       "far-eastern           0.0\n",
       "sudan-airways         0.0\n",
       "air-malawi            0.0\n",
       "skybus                0.0\n",
       "tropic-air-belize     0.0\n",
       "phuket-air            0.0\n",
       "era-aviation          0.0\n",
       "tajikistan-airlines   0.0"
      ]
     },
     "execution_count": 140,
     "metadata": {},
     "output_type": "execute_result"
    }
   ],
   "source": [
    "g1 = df.groupby(\"airline_name\")[\"recommended\"].agg([np.mean])\n",
    "g1.sort_values('mean').head(10)\n",
    "\n",
    "# q1= airlines.groupby(\"airline_name\")['recommended'].sum() / airlines.groupby(\"airline_anem\") ...\n"
   ]
  },
  {
   "cell_type": "markdown",
   "metadata": {},
   "source": [
    "# Q1.2 (5 points)\n",
    "\n",
    "Print out the result for just `peach-aviation`."
   ]
  },
  {
   "cell_type": "code",
   "execution_count": 141,
   "metadata": {
    "collapsed": false
   },
   "outputs": [
    {
     "name": "stdout",
     "output_type": "stream",
     "text": [
      "mean    0.777778\n",
      "Name: peach-aviation, dtype: float64\n"
     ]
    }
   ],
   "source": [
    "print(g1.ix[\"peach-aviation\"])"
   ]
  },
  {
   "cell_type": "markdown",
   "metadata": {},
   "source": [
    "# Q2.1 (10 points)"
   ]
  },
  {
   "cell_type": "markdown",
   "metadata": {},
   "source": [
    "Plot a histogram of the number of reviews per author where a given author has written more than 10 reviews."
   ]
  },
  {
   "cell_type": "code",
   "execution_count": 157,
   "metadata": {
    "collapsed": false
   },
   "outputs": [
    {
     "data": {
      "text/plain": [
       "<matplotlib.axes._subplots.AxesSubplot at 0x3660a208>"
      ]
     },
     "execution_count": 157,
     "metadata": {},
     "output_type": "execute_result"
    },
    {
     "data": {
      "image/png": "[encoded data removed]",
      "text/plain": [
       "<matplotlib.figure.Figure at 0x35b7a4e0>"
      ]
     },
     "metadata": {},
     "output_type": "display_data"
    }
   ],
   "source": [
    "df[\"author\"].value_counts()[df[\"author\"].value_counts()>10].plot(kind=\"hist\")"
   ]
  },
  {
   "cell_type": "markdown",
   "metadata": {},
   "source": [
    "# Q2.2 (20 points)\n",
    "\n",
    "Plot a bar graph of the counts of the overall ratings. However you will need to add a couple of details to this graph. Set the y limits to 0 and 10000. Give it a legend and name the label \"Overall Rating\" instead of \"overall_rating\"."
   ]
  },
  {
   "cell_type": "code",
   "execution_count": 145,
   "metadata": {
    "collapsed": false
   },
   "outputs": [
    {
     "data": {
      "text/plain": [
       "<matplotlib.axes._subplots.AxesSubplot at 0x35bc17f0>"
      ]
     },
     "execution_count": 145,
     "metadata": {},
     "output_type": "execute_result"
    },
    {
     "data": {
      "image/png": "[encoded data removed]",
      "text/plain": [
       "<matplotlib.figure.Figure at 0x35cd7940>"
      ]
     },
     "metadata": {},
     "output_type": "display_data"
    }
   ],
   "source": [
    "df[\"overall_rating\"].value_counts().plot(kind=\"bar\", title=\"Overall Rating\", ylim=(0,10000), legend=True)"
   ]
  },
  {
   "cell_type": "markdown",
   "metadata": {},
   "source": [
    "# Q3.1 (20 points)\n",
    "What is the difference between the median overall rating for all authors from the United Kingdom and the United States?"
   ]
  },
  {
   "cell_type": "code",
   "execution_count": 146,
   "metadata": {
    "collapsed": false
   },
   "outputs": [
    {
     "name": "stdout",
     "output_type": "stream",
     "text": [
      "2.0\n"
     ]
    }
   ],
   "source": [
    "df.groupby(\"author_country\")[\"overall_rating\"].agg([np.median])\n",
    "\n",
    "US = df[df[\"author_country\"]==\"United States\"].groupby(\"author_country\")[\"overall_rating\"].agg([np.median])\n",
    "UK = df[df[\"author_country\"]==\"United Kingdom\"].groupby(\"author_country\")[\"overall_rating\"].agg([np.median])\n",
    "\n",
    "#print(US[\"median\"].item())\n",
    "#print(UK[\"median\"].item())\n",
    "print(UK[\"median\"].item() - US[\"median\"].item())"
   ]
  },
  {
   "cell_type": "markdown",
   "metadata": {},
   "source": [
    "# Q4.1 (10 points)\n",
    "\n",
    "Now that we've done some exploration of these ratings we can see that often they're more favorable than not. Now let's do some time series analysis just like we did in the asyncronous material. We've got a date column, so we can compare changes over time of the data.\n",
    "\n",
    "Create two `DataFrames` by either reading in the data or making a modification to the current `airlines` DataFrame.\n",
    "\n",
    "- DataFrame #1: \n",
    "    - Name: `undated`\n",
    "    - This DataFrame is the same as the airlines dataset except that the `date` column is of the proper type (`dtype: datetime64[ns]`).\n",
    "- DataFrame #2:\n",
    "    - Name: `dated`\n",
    "    - This DataFrame is the same as above except its index consists of the `date` column. "
   ]
  },
  {
   "cell_type": "code",
   "execution_count": 147,
   "metadata": {
    "collapsed": false
   },
   "outputs": [
    {
     "name": "stdout",
     "output_type": "stream",
     "text": [
      "airline_name                             object\n",
      "link                                     object\n",
      "title                                    object\n",
      "author                                   object\n",
      "author_country                           object\n",
      "date                             datetime64[ns]\n",
      "content                                  object\n",
      "aircraft                                 object\n",
      "type_traveller                           object\n",
      "cabin_flown                              object\n",
      "route                                    object\n",
      "overall_rating                          float64\n",
      "seat_comfort_rating                     float64\n",
      "cabin_staff_rating                      float64\n",
      "food_beverages_rating                   float64\n",
      "inflight_entertainment_rating           float64\n",
      "ground_service_rating                   float64\n",
      "wifi_connectivity_rating                float64\n",
      "value_money_rating                      float64\n",
      "recommended                               int64\n",
      "dtype: object\n",
      "             airline_name                            link  \\\n",
      "date                                                        \n",
      "2015-04-10  adria-airways  /airline-reviews/adria-airways   \n",
      "2015-01-05  adria-airways  /airline-reviews/adria-airways   \n",
      "2014-09-14  adria-airways  /airline-reviews/adria-airways   \n",
      "2014-09-06  adria-airways  /airline-reviews/adria-airways   \n",
      "2014-06-16  adria-airways  /airline-reviews/adria-airways   \n",
      "\n",
      "                                    title        author author_country  \\\n",
      "date                                                                     \n",
      "2015-04-10  Adria Airways customer review         D Ito        Germany   \n",
      "2015-01-05  Adria Airways customer review  Ron Kuhlmann  United States   \n",
      "2014-09-14  Adria Airways customer review       E Albin    Switzerland   \n",
      "2014-09-06  Adria Airways customer review  Tercon Bojan      Singapore   \n",
      "2014-06-16  Adria Airways customer review       L James         Poland   \n",
      "\n",
      "                 date                                            content  \\\n",
      "date                                                                       \n",
      "2015-04-10 2015-04-10  Outbound flight FRA/PRN A319. 2 hours 10 min f...   \n",
      "2015-01-05 2015-01-05  Two short hops ZRH-LJU and LJU-VIE. Very fast ...   \n",
      "2014-09-14 2014-09-14  Flew Zurich-Ljubljana on JP365 newish CRJ900. ...   \n",
      "2014-09-06 2014-09-06  Adria serves this 100 min flight from Ljubljan...   \n",
      "2014-06-16 2014-06-16  WAW-SKJ Economy. No free snacks or drinks on t...   \n",
      "\n",
      "           aircraft type_traveller     cabin_flown route  overall_rating  \\\n",
      "date                                                                       \n",
      "2015-04-10      NaN            NaN         Economy   NaN             7.0   \n",
      "2015-01-05      NaN            NaN  Business Class   NaN            10.0   \n",
      "2014-09-14      NaN            NaN         Economy   NaN             9.0   \n",
      "2014-09-06      NaN            NaN  Business Class   NaN             8.0   \n",
      "2014-06-16      NaN            NaN         Economy   NaN             4.0   \n",
      "\n",
      "            seat_comfort_rating  cabin_staff_rating  food_beverages_rating  \\\n",
      "date                                                                         \n",
      "2015-04-10                  4.0                 4.0                    4.0   \n",
      "2015-01-05                  4.0                 5.0                    4.0   \n",
      "2014-09-14                  5.0                 5.0                    4.0   \n",
      "2014-09-06                  4.0                 4.0                    3.0   \n",
      "2014-06-16                  4.0                 2.0                    1.0   \n",
      "\n",
      "            inflight_entertainment_rating  ground_service_rating  \\\n",
      "date                                                               \n",
      "2015-04-10                            0.0                    NaN   \n",
      "2015-01-05                            1.0                    NaN   \n",
      "2014-09-14                            0.0                    NaN   \n",
      "2014-09-06                            1.0                    NaN   \n",
      "2014-06-16                            2.0                    NaN   \n",
      "\n",
      "            wifi_connectivity_rating  value_money_rating  recommended  \n",
      "date                                                                   \n",
      "2015-04-10                       NaN                 4.0            1  \n",
      "2015-01-05                       NaN                 5.0            1  \n",
      "2014-09-14                       NaN                 5.0            1  \n",
      "2014-09-06                       NaN                 4.0            1  \n",
      "2014-06-16                       NaN                 2.0            0  \n"
     ]
    }
   ],
   "source": [
    "undated = pd.read_csv(\"airline.csv\", parse_dates=[\"date\"])\n",
    "print(undated.dtypes)\n",
    "\n",
    "dated = df1.set_index(df1.date)\n",
    "print(dated.head())"
   ]
  },
  {
   "cell_type": "markdown",
   "metadata": {},
   "source": [
    "# Q4.2 (10 points)\n",
    "Set the value of `min_date` to the smallest date value in the `date` column. Set the value of `max_date` to the largest date value in the `date` column. You may use either of the above datasets to get these values."
   ]
  },
  {
   "cell_type": "code",
   "execution_count": 148,
   "metadata": {
    "collapsed": false
   },
   "outputs": [
    {
     "name": "stdout",
     "output_type": "stream",
     "text": [
      "1970-01-01 00:00:00\n"
     ]
    }
   ],
   "source": [
    "min_date = min(undated.date)\n",
    "print(min_date)"
   ]
  },
  {
   "cell_type": "code",
   "execution_count": 149,
   "metadata": {
    "collapsed": false
   },
   "outputs": [
    {
     "name": "stdout",
     "output_type": "stream",
     "text": [
      "2015-08-02 00:00:00\n"
     ]
    }
   ],
   "source": [
    "max_date = max(undated.date)\n",
    "print(max_date)"
   ]
  },
  {
   "cell_type": "markdown",
   "metadata": {},
   "source": [
    "# Q4.3 (5 Points)\n",
    "How many unique dates do we have in the data set?"
   ]
  },
  {
   "cell_type": "code",
   "execution_count": 150,
   "metadata": {
    "collapsed": false
   },
   "outputs": [
    {
     "data": {
      "text/plain": [
       "2368"
      ]
     },
     "execution_count": 150,
     "metadata": {},
     "output_type": "execute_result"
    }
   ],
   "source": [
    "undated.date.unique().size"
   ]
  },
  {
   "cell_type": "markdown",
   "metadata": {},
   "source": [
    "# Q5.1\n",
    "\n",
    "The code below will output a new dateframe called `final` that will transform your current dataframe into the one that is required for the following section. If you have been following along with the naming required in **Q4** then you should be able to execute the cell below and not have to change anything. If you've gone rogue you'll have to edit it to conform accordingly."
   ]
  },
  {
   "cell_type": "code",
   "execution_count": 151,
   "metadata": {
    "collapsed": false
   },
   "outputs": [],
   "source": [
    "all_dates = pd.DataFrame({\"date\":pd.date_range(min_date, max_date)}).set_index('date')\n",
    "final = all_dates.join(dated)"
   ]
  },
  {
   "cell_type": "code",
   "execution_count": 152,
   "metadata": {
    "collapsed": false
   },
   "outputs": [
    {
     "data": {
      "text/plain": [
       "               airline_name                              link  \\\n",
       "date                                                            \n",
       "1970-01-01  british-airways  /airline-reviews/british-airways   \n",
       "1970-01-02              NaN                               NaN   \n",
       "1970-01-03              NaN                               NaN   \n",
       "1970-01-04              NaN                               NaN   \n",
       "1970-01-05              NaN                               NaN   \n",
       "\n",
       "                                      title     author  author_country  \\\n",
       "date                                                                     \n",
       "1970-01-01  British Airways customer review  Russ King  United Kingdom   \n",
       "1970-01-02                              NaN        NaN             NaN   \n",
       "1970-01-03                              NaN        NaN             NaN   \n",
       "1970-01-04                              NaN        NaN             NaN   \n",
       "1970-01-05                              NaN        NaN             NaN   \n",
       "\n",
       "                 date                                            content  \\\n",
       "date                                                                       \n",
       "1970-01-01 1970-01-01  SIN-LHR BA12 B747-436 First Class. Old aircraf...   \n",
       "1970-01-02        NaT                                                NaN   \n",
       "1970-01-03        NaT                                                NaN   \n",
       "1970-01-04        NaT                                                NaN   \n",
       "1970-01-05        NaT                                                NaN   \n",
       "\n",
       "           aircraft type_traveller  cabin_flown route  overall_rating  \\\n",
       "date                                                                    \n",
       "1970-01-01      NaN            NaN  First Class   NaN             4.0   \n",
       "1970-01-02      NaN            NaN          NaN   NaN             NaN   \n",
       "1970-01-03      NaN            NaN          NaN   NaN             NaN   \n",
       "1970-01-04      NaN            NaN          NaN   NaN             NaN   \n",
       "1970-01-05      NaN            NaN          NaN   NaN             NaN   \n",
       "\n",
       "            seat_comfort_rating  cabin_staff_rating  food_beverages_rating  \\\n",
       "date                                                                         \n",
       "1970-01-01                  4.0                 5.0                    5.0   \n",
       "1970-01-02                  NaN                 NaN                    NaN   \n",
       "1970-01-03                  NaN                 NaN                    NaN   \n",
       "1970-01-04                  NaN                 NaN                    NaN   \n",
       "1970-01-05                  NaN                 NaN                    NaN   \n",
       "\n",
       "            inflight_entertainment_rating  ground_service_rating  \\\n",
       "date                                                               \n",
       "1970-01-01                            2.0                    NaN   \n",
       "1970-01-02                            NaN                    NaN   \n",
       "1970-01-03                            NaN                    NaN   \n",
       "1970-01-04                            NaN                    NaN   \n",
       "1970-01-05                            NaN                    NaN   \n",
       "\n",
       "            wifi_connectivity_rating  value_money_rating  recommended  \n",
       "date                                                                   \n",
       "1970-01-01                       NaN                 2.0          0.0  \n",
       "1970-01-02                       NaN                 NaN          NaN  \n",
       "1970-01-03                       NaN                 NaN          NaN  \n",
       "1970-01-04                       NaN                 NaN          NaN  \n",
       "1970-01-05                       NaN                 NaN          NaN  "
      ]
     },
     "execution_count": 152,
     "metadata": {},
     "output_type": "execute_result"
    }
   ],
   "source": [
    "final.head()"
   ]
  },
  {
   "cell_type": "markdown",
   "metadata": {},
   "source": [
    "# Q5.2 (5 points)\n",
    "\n",
    "Please write a sentence or two explaining what the above code does?\n"
   ]
  },
  {
   "cell_type": "markdown",
   "metadata": {
    "collapsed": true
   },
   "source": [
    "It creates a dataframe with a range of dates as the index.  Then it joins it on the date field to the dataframe I had created earlier that also had a date field to create a DataFrame called \"final\".  The default is a left join, so a row for each date in the range will be present in the final dataframe."
   ]
  },
  {
   "cell_type": "markdown",
   "metadata": {},
   "source": [
    "# Q5.3 (5 points)\n",
    "\n",
    "Please write a sentence or two explaining why we made the above transformation?"
   ]
  },
  {
   "cell_type": "markdown",
   "metadata": {
    "collapsed": true
   },
   "source": [
    "The dated dataframe had missing dates, so plotting it as a time series would leave gaps."
   ]
  },
  {
   "cell_type": "markdown",
   "metadata": {},
   "source": [
    "# Q5.4 (5 points)\n",
    "\n",
    "Now plot this a graph of the overall rating over time, just like we had done in class.\n",
    "\n",
    "*note: this graph will look a bit strange*"
   ]
  },
  {
   "cell_type": "code",
   "execution_count": 153,
   "metadata": {
    "collapsed": false
   },
   "outputs": [
    {
     "data": {
      "text/plain": [
       "<matplotlib.axes._subplots.AxesSubplot at 0x14d036a0>"
      ]
     },
     "execution_count": 153,
     "metadata": {},
     "output_type": "execute_result"
    },
    {
     "data": {
      "image/png": "[encoded data removed]",
      "text/plain": [
       "<matplotlib.figure.Figure at 0x14d342e8>"
      ]
     },
     "metadata": {},
     "output_type": "display_data"
    }
   ],
   "source": [
    "final[\"overall_rating\"].plot(kind=\"line\")"
   ]
  },
  {
   "cell_type": "markdown",
   "metadata": {},
   "source": [
    "One of the reasons this graph will look strange is that there are so many reviews that are past 2009 and that half of the graph is just white space for the earlier years. Let's go ahead and remedy that. \n",
    "\n",
    "# Q5.5 (10 points)\n",
    "\n",
    "Create a new dataframe `final2` that has only the rows/reviews that are after `2009-01-01`."
   ]
  },
  {
   "cell_type": "code",
   "execution_count": 154,
   "metadata": {
    "collapsed": false
   },
   "outputs": [],
   "source": [
    "final2 = final.ix['2009-01-01':]\n"
   ]
  },
  {
   "cell_type": "markdown",
   "metadata": {},
   "source": [
    "# Q5.6 (20 points)\n",
    "\n",
    "Now you need to plot a line graph  the 10 day rolling standard deviation and rolling mean on the same graph of the overall rating over time. This should have a legend and should be labelled `rolling std` and `rolling mean` accordingly."
   ]
  },
  {
   "cell_type": "code",
   "execution_count": 155,
   "metadata": {
    "collapsed": false
   },
   "outputs": [
    {
     "data": {
      "text/plain": [
       "<matplotlib.legend.Legend at 0x14c1e9b0>"
      ]
     },
     "execution_count": 155,
     "metadata": {},
     "output_type": "execute_result"
    },
    {
     "data": {
      "image/png": "[encoded data removed]",
      "text/plain": [
       "<matplotlib.figure.Figure at 0x14bc3128>"
      ]
     },
     "metadata": {},
     "output_type": "display_data"
    }
   ],
   "source": [
    "final2[\"overall_rating\"].rolling(\n",
    "    center=False, window=30).mean().plot(kind=\"line\", figsize=(11,9), legend=True)\n",
    "\n",
    "final2[\"overall_rating\"].rolling(\n",
    "    center=False, window=30).std().plot(kind=\"line\", figsize=(11,9), title=\"rolling mean and std\", legend=True)\n",
    "\n",
    "plt.legend([\"rolling mean\", \"rolling std\"])\n",
    "\n",
    "#rstd = pd.rolling_std(final2['overall_rating..."
   ]
  },
  {
   "cell_type": "code",
   "execution_count": null,
   "metadata": {
    "collapsed": false
   },
   "outputs": [],
   "source": []
  },
  {
   "cell_type": "code",
   "execution_count": null,
   "metadata": {
    "collapsed": false
   },
   "outputs": [],
   "source": []
  }
 ],
 "metadata": {
  "kernelspec": {
   "display_name": "Python 3",
   "language": "python",
   "name": "python3"
  },
  "language_info": {
   "codemirror_mode": {
    "name": "ipython",
    "version": 3
   },
   "file_extension": ".py",
   "mimetype": "text/x-python",
   "name": "python",
   "nbconvert_exporter": "python",
   "pygments_lexer": "ipython3",
   "version": "3.5.1"
  }
 },
 "nbformat": 4,
 "nbformat_minor": 0
}
