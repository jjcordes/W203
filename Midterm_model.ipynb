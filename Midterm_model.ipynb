{
 "cells": [
  {
   "cell_type": "markdown",
   "metadata": {},
   "source": [
    "# Python Fundamentals for Data Science: Midterm Exam\n",
    "### Paul Laskowski, William Chambers, Kay Ashaolu"
   ]
  },
  {
   "cell_type": "markdown",
   "metadata": {},
   "source": [
    "## Instructions\n",
    "The midterm exam is designed to evaluate your grasp of Python theory as well as Python coding.\n",
    "\n",
    "- This is an individual exam.\n",
    "- This exam is closed note, closed book, closed Internet. You may not refer to any code during this exam.\n",
    "- You have 1 hour to complete the exam with 5 minutes buffer time to submit it.\n",
    "\n",
    "Partial credit will be given on questions that are partially completed and an explanation of what you might do is provided."
   ]
  },
  {
   "cell_type": "markdown",
   "metadata": {},
   "source": [
    "## Questions\n",
    "\n",
    "- Python's dynamic typing allows one variable to refer to multiple types of objects within the same program execution.  This can speed program development.  Name one disadvantage of dynamic typing."
   ]
  },
  {
   "cell_type": "markdown",
   "metadata": {
    "collapsed": true
   },
   "source": [
    "One disadvantage is that unlike statically typed language, since the variable can change type and this is not always obvious, the programmer can get confused with the object type that the variable is referring to and if he/she tries to perform some operations that are not compatible with the type then will encounter an error and will have to spend time for debugging."
   ]
  },
  {
   "cell_type": "markdown",
   "metadata": {},
   "source": [
    "- Compiled languages typically offer faster performance than interpreted languages.  Why would you choose an interpreted language like Python for the purpose of analyzing a data set?"
   ]
  },
  {
   "cell_type": "markdown",
   "metadata": {
    "collapsed": true
   },
   "source": [
    "For a compiled language you have compile the program, create a binary and execute that binary to see the results. This code/compile/run becomes a bottle-neck in coding speed.\n",
    "\n",
    "On the other hand interpreted language is extremely flexible. Because the code does not need to be compiled prior to execution, it can be run \"on the fly\" and enable rapid successive iterations of fine-tuning the code. Over the course of analyzing a data set, the analyst will very likely prefer a nimble method of adjusting code, executing, and repeating."
   ]
  },
  {
   "cell_type": "markdown",
   "metadata": {},
   "source": [
    "- Your friend comes to you with a list of numbers and just wrote a for loop to double all of the numbers in the list. What is a more Pythonic way of achieving this?\n",
    "\n",
    "```python\n",
    "my_list = [0, 1, 2, 3, 4, 5]\n",
    "my_new_list = []\n",
    "for val in my_list:\n",
    "    my_new_list.append(val * 2)\n",
    "```"
   ]
  },
  {
   "cell_type": "code",
   "execution_count": 2,
   "metadata": {
    "collapsed": false
   },
   "outputs": [
    {
     "name": "stdout",
     "output_type": "stream",
     "text": [
      "[0, 2, 4, 6, 8, 10]\n"
     ]
    }
   ],
   "source": [
    "my_list = [0, 1, 2, 3, 4, 5]\n",
    "\n",
    "# PUT YOUR CODE HERE\n",
    "new_list = [i*2 for i in my_list]\n",
    "print(new_list)"
   ]
  },
  {
   "cell_type": "markdown",
   "metadata": {},
   "source": [
    "- Another friend comes to you with a list of names and phone numbers groups. He says he wants an easy way to look those up rather than having to go through the entire list. Help him out by transforming the data into a data structure that might fit more of his needs.\n",
    "\n",
    "*What you'll find below is for you to copy and paste if for some reason you accidentally change the `rolodex` in the cell below.*\n",
    "```python\n",
    "[['Amanda', '1-998-929-0557'],\n",
    " ['Zahir', '1-497-101-0078'],\n",
    " ['Harlan', '1-127-436-3250'],\n",
    " ['Tanya', '1-833-418-3546'],\n",
    " ['Miranda', '952-9285'],\n",
    " ['Alec', '1-192-114-7291'],\n",
    " ['Aiko', '1-325-960-3461'],\n",
    " ['Sade', '699-6360'],\n",
    " ['Jessamine', '1-951-833-7555'],\n",
    " ['Allistair', '254-5835']]\n",
    " ```\n",
    " "
   ]
  },
  {
   "cell_type": "code",
   "execution_count": 6,
   "metadata": {
    "collapsed": false
   },
   "outputs": [
    {
     "data": {
      "text/plain": [
       "'1-833-418-3546'"
      ]
     },
     "execution_count": 6,
     "metadata": {},
     "output_type": "execute_result"
    }
   ],
   "source": [
    "rolodex = [['Amanda', '1-998-929-0557'],\n",
    " ['Zahir', '1-497-101-0078'],\n",
    " ['Harlan', '1-127-436-3250'],\n",
    " ['Tanya', '1-833-418-3546'],\n",
    " ['Miranda', '952-9285'],\n",
    " ['Alec', '1-192-114-7291'],\n",
    " ['Aiko', '1-325-960-3461'],\n",
    " ['Sade', '699-6360'],\n",
    " ['Jessamine', '1-951-833-7555'],\n",
    " ['Allistair', '254-5835']]\n",
    "\n",
    "# PUT YOUR CODE HERE\n",
    "relodex_dict = dict(rolodex)\n",
    "relodex_dict['Tanya']"
   ]
  },
  {
   "cell_type": "markdown",
   "metadata": {},
   "source": [
    "- Two computational strategies we discussed are exhaustive enumeration (brute force) and bisection search.  Either one might make more sense, depending on what you’re trying to compute and what aspects of performance you care about.  Give an example of a scenario or a reason that would make you choose\n",
    "    1. exhaustive enumeration\n",
    "    2. bisection search"
   ]
  },
  {
   "cell_type": "markdown",
   "metadata": {
    "collapsed": true
   },
   "source": [
    "I would use exhaustive enumeration if the number of possible solutions is small and I want to quickly and easily find an answer. It also has the benefit of easily readable and understandable code so other developers know how it works immediately. Bisection search is better when the solution space is large and a brute force algorithm would take too long."
   ]
  },
  {
   "cell_type": "markdown",
   "metadata": {},
   "source": [
    "- Why might you use a tuple instead of a list in a Python program?"
   ]
  },
  {
   "cell_type": "markdown",
   "metadata": {
    "collapsed": true
   },
   "source": [
    "A tuple is not mutable, so a tuple that contains immutable elements, such as strings, are a very stable thing. Because of this, it's a good method for storing things that cannot and should not change. Perhaps one application could be storing people's names in a (firstname, lastname) tuple. You wouldn't want to append or modify that tuple once it's created - only reference it."
   ]
  },
  {
   "cell_type": "markdown",
   "metadata": {},
   "source": [
    "- Your friend comes to you with the code below that was meant to compute the inverse of a function but doesn't work. \n",
    "    1. Fix the code for him so that it achieves the desired result. You may change the code and the structure of the code as much as you see fit to achieve the desired result."
   ]
  },
  {
   "cell_type": "code",
   "execution_count": 23,
   "metadata": {
    "collapsed": false
   },
   "outputs": [
    {
     "name": "stdout",
     "output_type": "stream",
     "text": [
      "Enter a number:5\n",
      "the inverse of x is from friend's function is 5\n",
      "Enter a number: 5\n",
      "the inverse of x from invert_1 is 0.2\n",
      "Enter a number: 5\n",
      "the inverse of 5 from my fucntion is: 0.2\n"
     ]
    }
   ],
   "source": [
    "def invert_frnd(x):\n",
    "    x = 1 / x\n",
    "x = int(input(\"Enter a number:\"))\n",
    "invert_frnd(x)\n",
    "print(\"the inverse of x is from friend's function is\", x)\n",
    "\n",
    "\n",
    "## Write your code here\n",
    "def invert_1(x):\n",
    "    try:\n",
    "        num = float(x)\n",
    "        if num == 0:\n",
    "            print('0 does not have an inverse')\n",
    "        else:\n",
    "            print(\"the inverse of x from invert_1 is {0}\".format(1 / num))\n",
    "    except ValueError:\n",
    "        print('Invalid number')\n",
    "    \n",
    "x = input(\"Enter a number: \")\n",
    "invert_1(x)\n",
    "\n",
    "def invert_2(x):\n",
    "    try:\n",
    "        num = float(x)\n",
    "        if num == 0:\n",
    "            return '0 does not have an inverse'\n",
    "        else:\n",
    "            return 1 / num\n",
    "    except ValueError:\n",
    "        return 'Invalid number'\n",
    "    \n",
    "x = input(\"Enter a number: \")\n",
    "print(\"the inverse of\",x,\"from my fucntion is:\", invert(x))"
   ]
  },
  {
   "cell_type": "markdown",
   "metadata": {},
   "source": [
    "- [continued from above] Now that you've fixed the code, explain why your approach is better so that your friend can get a better sense of how they can avoid these kinds of problems in the future."
   ]
  },
  {
   "cell_type": "markdown",
   "metadata": {
    "collapsed": true
   },
   "source": [
    " - The first thing here is the return statement. In m y friends function, the invert_frnd() function works on a copy of x passed to it and modifies its value. If we have put a print statement within the function, we would have got the correct answer as well.\n",
    " \n",
    " - Handling edge cases like empty input, divisionbyzero and non numeric input correctly."
   ]
  },
  {
   "cell_type": "markdown",
   "metadata": {},
   "source": [
    "- What is the purpose of a stack trace?"
   ]
  },
  {
   "cell_type": "markdown",
   "metadata": {
    "collapsed": true
   },
   "source": [
    "A stack trace  is a report of the active stack frames at a certain point in time during the execution of a program.\n",
    "\n",
    " - A stack trace allows tracking the sequence of nested functions called - up to the point where the stack trace is generated so that when the nested functions return, the program returns to the correct point of execution with the original environment\n",
    " \n",
    " - Programmers commonly use stack tracing during debugging. End-users may see a stack trace displayed as part of an error message, which the user can then report to a programmer."
   ]
  },
  {
   "cell_type": "markdown",
   "metadata": {},
   "source": [
    "- Why does Python make it hard to change the value of a variable that is not in the local namespace?"
   ]
  },
  {
   "cell_type": "markdown",
   "metadata": {
    "collapsed": true
   },
   "source": [
    "The point is that you have to specify those keywords or a variable as global in order to make those modifications. That means you have to be super explicit about doing it."
   ]
  },
  {
   "cell_type": "markdown",
   "metadata": {},
   "source": [
    "You and a friend have decided to create a small application together to make it easy to figure out how much money you owe one another. Unfortunately, the friend you're working with, Lauren, is smart and loves to over-engineer solutions to problems. You forgot this before agreeing to the project and she snuck away and wrote a bunch of code while you were asleep!\n",
    "\n",
    "She thought that since she had just learned about how cool base encoding is, that she wasn't going to encode all of the data the same way so that when she emailed it to you, no one else would know how much she was in your debt!\n",
    "\n",
    "She comes up with a system in which each transaction where she would owe you money is a sequence of three distinct values:\n",
    "- The first value is the base that she chose (one of 2, 8, 16).\n",
    "- The second value in the sequence is the decimal offset (one of 0, 1, 2). 0 means that you should shift the decimal over zero spaces (there is no amount greater than 1 dollar), 1 means that you should shift the decimal right to left by 1 place. and 2 means by 2 places.\n",
    "    - For example, given a number that comes out to the conversion as `1234` with a decimal value of `2` would mean that the true value is `12.34`. **Hint:** This is only applied after the number is transformed into base 10, not before. You should work through this problem without taking into account the decimal shift until the very end.\n",
    "- The last value is the amount that she owes you for that given transaction.\n",
    "\n",
    "\n",
    "\n",
    "Ugh, you think, she's really made it complicated, but luckily you remember a couple of things that will help you.\n",
    "\n",
    "- To convert a `string` representation of a base number you use the `int` function. You also don't need to remove the `0b` or `0x` characters because Python will do that for you.\n",
    "\n",
    "- You also remember a super handy trick about the Jupyter notebook. When you type `?<function name>` and execute the cell, it will bring up the documentation for that given function!"
   ]
  },
  {
   "cell_type": "code",
   "execution_count": 8,
   "metadata": {
    "collapsed": true
   },
   "outputs": [],
   "source": [
    "amounts = [(16, 1, '0xad7'),\n",
    " (8, 2, '0o7125'),\n",
    " (2, 1, '-0b101001101000'),\n",
    " (8, 1, '0o2163'),\n",
    " (16, 2, '0x9ec'),\n",
    " (2, 2, '-0b10011110111'),\n",
    " (8, 1, '-0o5074'),\n",
    " (2, 1, '-0b100100100110'),\n",
    " (2, 2, '-0b111111000101'),\n",
    " (16, 2, '-0xec2'),\n",
    " (8, 2, '0o1011'),\n",
    " (2, 0, '-0b110111110001'),\n",
    " (2, 0, '0b110100001010'),\n",
    " (2, 1, '0b11110010111'),\n",
    " (16, 0, '0x78d'),\n",
    " (16, 2, '0x78'),\n",
    " (2, 2, '-0b100100010001'),\n",
    " (16, 0, '0xfff'),\n",
    " (16, 1, '-0xe2f'),\n",
    " (16, 2, '0x746')]"
   ]
  },
  {
   "cell_type": "code",
   "execution_count": 10,
   "metadata": {
    "collapsed": false
   },
   "outputs": [
    {
     "name": "stdout",
     "output_type": "stream",
     "text": [
      "Amount Lauren owes you: $5230.05\n"
     ]
    }
   ],
   "source": [
    "def decoder(amnts):\n",
    "    total_owed = 0\n",
    "    total_owed = sum([int(amnt[2],amnt[0])/(10**amnt[1]) for amnt in amnts])\n",
    "    return total_owed # DO NOT CHANGE THIS LINE, just update the variable named total_owed in your function\n",
    "print(\"Amount Lauren owes you: $%.2f\" % decoder(amounts))"
   ]
  },
  {
   "cell_type": "code",
   "execution_count": null,
   "metadata": {
    "collapsed": true
   },
   "outputs": [],
   "source": []
  }
 ],
 "metadata": {
  "kernelspec": {
   "display_name": "Python 3",
   "language": "python",
   "name": "python3"
  },
  "language_info": {
   "codemirror_mode": {
    "name": "ipython",
    "version": 3
   },
   "file_extension": ".py",
   "mimetype": "text/x-python",
   "name": "python",
   "nbconvert_exporter": "python",
   "pygments_lexer": "ipython3",
   "version": "3.5.1"
  }
 },
 "nbformat": 4,
 "nbformat_minor": 0
}
