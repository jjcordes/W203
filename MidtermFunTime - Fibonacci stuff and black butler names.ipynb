{
 "cells": [
  {
   "cell_type": "code",
   "execution_count": 21,
   "metadata": {
    "collapsed": false
   },
   "outputs": [
    {
     "name": "stdout",
     "output_type": "stream",
     "text": [
      "meal price:23\n",
      "A 16% tip would be $ 3.68\n",
      "The total would be $ 26.68\n"
     ]
    }
   ],
   "source": [
    "price = float(input(\"meal price:\"))\n",
    "\n",
    "tip = price * 0.16\n",
    "total = price + tip\n",
    "\n",
    "if price >= 0:\n",
    "    print(\"A 16% tip would be $\", format(tip,\".2f\"))\n",
    "    print(\"The total would be $\", format(total,\".2f\"))\n",
    "else:\n",
    "    print(\"Nope.\")\n"
   ]
  },
  {
   "cell_type": "code",
   "execution_count": 35,
   "metadata": {
    "collapsed": false
   },
   "outputs": [
    {
     "name": "stdout",
     "output_type": "stream",
     "text": [
      "gallons: 23\n",
      "liters:  87.06\n",
      "barrels:  1.18\n",
      "price: $ 83.95\n"
     ]
    }
   ],
   "source": [
    "gallonfact = 3.7854  #number of liters\n",
    "barrelfact = 19.5 #number of gallons per barrel\n",
    "avgprice = 3.65 #price per gallon\n",
    "\n",
    "numgallons = float(input(\"gallons: \"))\n",
    "print(\"liters: \", round(numgallons * gallonfact,2))\n",
    "print(\"barrels: \", round(numgallons / barrelfact, 2))\n",
    "print(\"price: $\", round(avgprice * numgallons, 2))\n"
   ]
  },
  {
   "cell_type": "code",
   "execution_count": 34,
   "metadata": {
    "collapsed": false
   },
   "outputs": [
    {
     "name": "stdout",
     "output_type": "stream",
     "text": [
      "Asyay\n"
     ]
    }
   ],
   "source": [
    "def piglatin(word):\n",
    "    try:\n",
    "        if word[0].lower() in 'aeiou':\n",
    "            return word + 'yay'\n",
    "        else:\n",
    "            return word[1:] + word[0] + 'ay'\n",
    "    except err:\n",
    "        print(err.args[0] + \".  Yep, that happened.\")\n",
    "        \n",
    "print(piglatin(\"As\"))"
   ]
  },
  {
   "cell_type": "code",
   "execution_count": 42,
   "metadata": {
    "collapsed": true
   },
   "outputs": [],
   "source": [
    "def vowelcount(userinput):\n",
    "    count = 0\n",
    "    for let in userinput:\n",
    "        if let.lower() in 'aeiou':\n",
    "            count += 1\n",
    "    return count"
   ]
  },
  {
   "cell_type": "code",
   "execution_count": 43,
   "metadata": {
    "collapsed": false
   },
   "outputs": [
    {
     "name": "stdout",
     "output_type": "stream",
     "text": [
      "4\n"
     ]
    }
   ],
   "source": [
    "print(vowelcount(\"Sebastian!\"))"
   ]
  },
  {
   "cell_type": "code",
   "execution_count": 44,
   "metadata": {
    "collapsed": true
   },
   "outputs": [],
   "source": [
    "def firstvowel(userinput):\n",
    "    for let in userinput:\n",
    "        if let.lower() in 'aeiou':\n",
    "            return let\n"
   ]
  },
  {
   "cell_type": "code",
   "execution_count": 45,
   "metadata": {
    "collapsed": false
   },
   "outputs": [
    {
     "name": "stdout",
     "output_type": "stream",
     "text": [
      "e\n"
     ]
    }
   ],
   "source": [
    "print(firstvowel(\"Sebastian!\"))"
   ]
  },
  {
   "cell_type": "code",
   "execution_count": 48,
   "metadata": {
    "collapsed": true
   },
   "outputs": [],
   "source": [
    "def locfirstvowel(userinput):\n",
    "    loc = 0\n",
    "    for let in userinput:\n",
    "        if let.lower() in 'aeiou':\n",
    "            return loc\n",
    "        else:\n",
    "            loc += 1\n"
   ]
  },
  {
   "cell_type": "code",
   "execution_count": 55,
   "metadata": {
    "collapsed": false
   },
   "outputs": [
    {
     "name": "stdout",
     "output_type": "stream",
     "text": [
      "1\n"
     ]
    }
   ],
   "source": [
    "print(locfirstvowel(\"word\"))"
   ]
  },
  {
   "cell_type": "code",
   "execution_count": 83,
   "metadata": {
    "collapsed": false
   },
   "outputs": [],
   "source": [
    "def vowelcounts(userinput):\n",
    "    userinput = userinput.lower()\n",
    "    answer = dict([(vowel, userinput.count(vowel)) for vowel in 'aeiou'])\n",
    "    return answer"
   ]
  },
  {
   "cell_type": "code",
   "execution_count": 84,
   "metadata": {
    "collapsed": false
   },
   "outputs": [
    {
     "name": "stdout",
     "output_type": "stream",
     "text": [
      "{'i': 2, 'a': 0, 'u': 0, 'o': 4, 'e': 2}\n"
     ]
    }
   ],
   "source": [
    "print(vowelcounts(\"Boogie Woogie\"))"
   ]
  },
  {
   "cell_type": "code",
   "execution_count": 89,
   "metadata": {
    "collapsed": true
   },
   "outputs": [],
   "source": [
    "def matrixinverter(a, b, c, d):\n",
    "    mult = 1/((a*d) - (b*c))\n",
    "    returna = mult * d\n",
    "    returnb = mult * -b\n",
    "    returnc = mult * -c\n",
    "    returnd = mult * a\n",
    "    \n",
    "    return ((returna, returnb), (returnc, returnd))\n",
    "    "
   ]
  },
  {
   "cell_type": "code",
   "execution_count": 90,
   "metadata": {
    "collapsed": false
   },
   "outputs": [
    {
     "name": "stdout",
     "output_type": "stream",
     "text": [
      "((-2.0, 1.0), (1.5, -0.5))\n"
     ]
    }
   ],
   "source": [
    "print(matrixinverter(1,2,3,4))"
   ]
  },
  {
   "cell_type": "code",
   "execution_count": 94,
   "metadata": {
    "collapsed": false
   },
   "outputs": [],
   "source": [
    "def ispalindrome(userinput):\n",
    "    newuserinput = \"\"\n",
    "    for let in userinput.lower():\n",
    "        if let in 'abcdefghijklmnopqrstuvwxyz1234567890':\n",
    "            newuserinput += let\n",
    "        \n",
    "    return newuserinput.lower() == newuserinput[::-1].lower()\n",
    "    "
   ]
  },
  {
   "cell_type": "code",
   "execution_count": 108,
   "metadata": {
    "collapsed": false
   },
   "outputs": [
    {
     "name": "stdout",
     "output_type": "stream",
     "text": [
      "True\n",
      "Amanap lanac a nalp a nam \n"
     ]
    }
   ],
   "source": [
    "test = \"A man, a plan, a canal, panama.\"\n",
    "print(ispalindrome(test))\n",
    "\n",
    "testrev = test[::-1].replace(\".\", \"\").replace(\",\", \"\")\n",
    "print(testrev[0].upper()+testrev[1:-1:]+testrev[-1:-1].lower())"
   ]
  },
  {
   "cell_type": "code",
   "execution_count": 27,
   "metadata": {
    "collapsed": true
   },
   "outputs": [],
   "source": [
    "def maketree(treesize):\n",
    "    branch = \"\"\n",
    "    for row in range(1, treesize+1):\n",
    "        for col in range(1, row+1):\n",
    "            #print(\"row \", row)\n",
    "            #print(\"col \", col)\n",
    "            branch += str(col) + \" \"\n",
    "        for col in range(row-1, 0, -1):\n",
    "            #print(\"row \", row)\n",
    "            #print(\"col \", col)\n",
    "            branch += str(col) + \" \"\n",
    "        print(branch.center(treesize*4)) \n",
    "        branch = \"\"\n",
    "    return \"\""
   ]
  },
  {
   "cell_type": "code",
   "execution_count": 28,
   "metadata": {
    "collapsed": false
   },
   "outputs": [
    {
     "name": "stdout",
     "output_type": "stream",
     "text": [
      "         1          \n",
      "       1 2 1        \n",
      "     1 2 3 2 1      \n",
      "   1 2 3 4 3 2 1    \n",
      " 1 2 3 4 5 4 3 2 1  \n",
      "\n"
     ]
    }
   ],
   "source": [
    "print(maketree(5))\n"
   ]
  },
  {
   "cell_type": "code",
   "execution_count": 34,
   "metadata": {
    "collapsed": false
   },
   "outputs": [
    {
     "name": "stdout",
     "output_type": "stream",
     "text": [
      "1000003000003000001000000\n",
      "8\n"
     ]
    }
   ],
   "source": [
    "number1 = 100000100\n",
    "number2 = 100000100\n",
    "number3 = 100000100\n",
    "\n",
    "totaldigits = 0\n",
    "\n",
    "answer = number1 * number2 * number3\n",
    "for digit in str(answer):\n",
    "    totaldigits += int(digit)\n",
    "\n",
    "print(answer)\n",
    "print(totaldigits)"
   ]
  },
  {
   "cell_type": "code",
   "execution_count": 48,
   "metadata": {
    "collapsed": true
   },
   "outputs": [],
   "source": [
    "def fib(n):\n",
    "    a = 1\n",
    "    b = 1\n",
    "    future = 2\n",
    "    fiblist = [1,1]\n",
    "    \n",
    "    while a+b <= n:\n",
    "        future = a + b\n",
    "        fiblist.append(future)\n",
    "        a = b\n",
    "        b = future\n",
    "    \n",
    "    return fiblist"
   ]
  },
  {
   "cell_type": "code",
   "execution_count": 49,
   "metadata": {
    "collapsed": false
   },
   "outputs": [
    {
     "name": "stdout",
     "output_type": "stream",
     "text": [
      "1 1 2 3 5 8 13 21 "
     ]
    }
   ],
   "source": [
    "fibbo = fib(21)\n",
    "for fib in fibbo:\n",
    "    print(str(fib) + \" \", end=\"\")\n"
   ]
  },
  {
   "cell_type": "code",
   "execution_count": 44,
   "metadata": {
    "collapsed": false
   },
   "outputs": [],
   "source": [
    "import math\n",
    "\n",
    "def triangle(n):\n",
    "    line = \"\"\n",
    "    for row in range(0, n+1):\n",
    "        for col in range (0, row+1):\n",
    "            line += str(math.factorial(row) // math.factorial(col) // math.factorial(abs(row - col))) + \" \"\n",
    "        \n",
    "        print(line.center(n*4), \"\\n\")\n",
    "        line = \"\""
   ]
  },
  {
   "cell_type": "code",
   "execution_count": 45,
   "metadata": {
    "collapsed": false
   },
   "outputs": [
    {
     "name": "stdout",
     "output_type": "stream",
     "text": [
      "                   1                     \n",
      "\n",
      "                  1 1                    \n",
      "\n",
      "                 1 2 1                   \n",
      "\n",
      "                1 3 3 1                  \n",
      "\n",
      "               1 4 6 4 1                 \n",
      "\n",
      "             1 5 10 10 5 1               \n",
      "\n",
      "           1 6 15 20 15 6 1              \n",
      "\n",
      "          1 7 21 35 35 21 7 1            \n",
      "\n",
      "        1 8 28 56 70 56 28 8 1           \n",
      "\n",
      "      1 9 36 84 126 126 84 36 9 1        \n",
      "\n",
      "  1 10 45 120 210 252 210 120 45 10 1    \n",
      "\n"
     ]
    }
   ],
   "source": [
    "triangle(10)\n"
   ]
  },
  {
   "cell_type": "code",
   "execution_count": 46,
   "metadata": {
    "collapsed": true
   },
   "outputs": [],
   "source": [
    "def fact(n):\n",
    "    if n == 1:\n",
    "        return n\n",
    "    else:\n",
    "        return n * fact(n-1)\n"
   ]
  },
  {
   "cell_type": "code",
   "execution_count": 48,
   "metadata": {
    "collapsed": false
   },
   "outputs": [
    {
     "name": "stdout",
     "output_type": "stream",
     "text": [
      "24\n"
     ]
    }
   ],
   "source": [
    "print(fact(4))"
   ]
  },
  {
   "cell_type": "code",
   "execution_count": 62,
   "metadata": {
    "collapsed": false
   },
   "outputs": [],
   "source": [
    "def cboard(n):\n",
    "    for row in range(0, n):\n",
    "        for col in range(0, n):\n",
    "            if (row + col) % 2 == 0:\n",
    "                print(\"X \", end=\"\")\n",
    "            else:\n",
    "                print(\" \", end=\"\")\n",
    "                \n",
    "        print(\"\\n\")"
   ]
  },
  {
   "cell_type": "code",
   "execution_count": 64,
   "metadata": {
    "collapsed": false
   },
   "outputs": [
    {
     "name": "stdout",
     "output_type": "stream",
     "text": [
      "X  X  X  X  \n",
      "\n",
      " X  X  X  X \n",
      "\n",
      "X  X  X  X  \n",
      "\n",
      " X  X  X  X \n",
      "\n",
      "X  X  X  X  \n",
      "\n",
      " X  X  X  X \n",
      "\n",
      "X  X  X  X  \n",
      "\n",
      " X  X  X  X \n",
      "\n"
     ]
    }
   ],
   "source": [
    "cboard(8)"
   ]
  },
  {
   "cell_type": "code",
   "execution_count": 69,
   "metadata": {
    "collapsed": false
   },
   "outputs": [
    {
     "name": "stdout",
     "output_type": "stream",
     "text": [
      "Arguments:  ('Sebastian', 'Ciel', 'Grell')\n"
     ]
    }
   ],
   "source": [
    "def printargs(*args):\n",
    "    print('Arguments: ', args)\n",
    "    \n",
    "printargs('Sebastian', 'Ciel', 'Grell')"
   ]
  },
  {
   "cell_type": "code",
   "execution_count": 70,
   "metadata": {
    "collapsed": false
   },
   "outputs": [
    {
     "name": "stdout",
     "output_type": "stream",
     "text": [
      "{'grell': 'Grell', 'demon': 'Sebastian', 'kid': 'Ciel'}\n"
     ]
    }
   ],
   "source": [
    "def keywordargs(**kwargs):\n",
    "    print(kwargs)\n",
    "    \n",
    "keywordargs(demon='Sebastian', kid='Ciel', grell='Grell')    "
   ]
  },
  {
   "cell_type": "code",
   "execution_count": 72,
   "metadata": {
    "collapsed": false
   },
   "outputs": [],
   "source": [
    "def knights(saying):\n",
    "    def whatsaid():\n",
    "        return \"We are the knights who say \" + saying\n",
    "    return whatsaid\n",
    "\n",
    "a = knights('ni')\n",
    "b = knights('nope')\n"
   ]
  },
  {
   "cell_type": "code",
   "execution_count": 76,
   "metadata": {
    "collapsed": false
   },
   "outputs": [
    {
     "name": "stdout",
     "output_type": "stream",
     "text": [
      "We are the knights who say ni\n",
      "We are the knights who say nope\n"
     ]
    }
   ],
   "source": [
    "print(a())\n",
    "print(b())\n"
   ]
  },
  {
   "cell_type": "code",
   "execution_count": 112,
   "metadata": {
    "collapsed": false
   },
   "outputs": [
    {
     "name": "stdout",
     "output_type": "stream",
     "text": [
      "['Nice!', 'Totally!', 'I know, right?!', 'Nope!!']\n"
     ]
    }
   ],
   "source": [
    "sayings=['nice', 'totally', 'i know, right?', 'nope!']\n",
    "\n",
    "def doit(func, slist):\n",
    "    result = [func(item) for item in slist]\n",
    "    return result\n",
    "\n",
    "def capitalize(test):\n",
    "    return test.upper()\n",
    "\n",
    "print(doit(lambda x: x.capitalize() + \"!\", sayings))\n"
   ]
  },
  {
   "cell_type": "code",
   "execution_count": 100,
   "metadata": {
    "collapsed": false
   },
   "outputs": [
    {
     "name": "stdout",
     "output_type": "stream",
     "text": [
      "1\n",
      "1\n",
      "2\n",
      "3\n",
      "5\n",
      "8\n",
      "13\n",
      "21\n",
      "34\n",
      "55\n",
      "89\n",
      "144\n",
      "233\n",
      "377\n",
      "610\n",
      "987\n",
      "1597\n",
      "2584\n",
      "4181\n"
     ]
    }
   ],
   "source": [
    "def fibgenerator(stop=100):\n",
    "    a=1\n",
    "    b=1\n",
    "    n=0\n",
    "    while n<stop:\n",
    "        yield a\n",
    "        n = a+b\n",
    "        a=b\n",
    "        b=n\n",
    "\n",
    "for i in fibgenerator(10000):\n",
    "    print(i)\n"
   ]
  },
  {
   "cell_type": "code",
   "execution_count": 115,
   "metadata": {
    "collapsed": false
   },
   "outputs": [
    {
     "ename": "AttributeError",
     "evalue": "'function' object has no attribute '_name_'",
     "output_type": "error",
     "traceback": [
      "\u001b[1;31m---------------------------------------------------------------------------\u001b[0m",
      "\u001b[1;31mAttributeError\u001b[0m                            Traceback (most recent call last)",
      "\u001b[1;32m<ipython-input-115-d1f53679be5b>\u001b[0m in \u001b[0;36m<module>\u001b[1;34m()\u001b[0m\n\u001b[0;32m     14\u001b[0m \u001b[0madd_ints\u001b[0m\u001b[1;33m(\u001b[0m\u001b[1;36m3\u001b[0m\u001b[1;33m,\u001b[0m\u001b[1;36m4\u001b[0m\u001b[1;33m)\u001b[0m\u001b[1;33m\u001b[0m\u001b[0m\n\u001b[0;32m     15\u001b[0m \u001b[0mniceradd_ints\u001b[0m \u001b[1;33m=\u001b[0m \u001b[0mdocument_it\u001b[0m\u001b[1;33m(\u001b[0m\u001b[0madd_ints\u001b[0m\u001b[1;33m)\u001b[0m\u001b[1;33m\u001b[0m\u001b[0m\n\u001b[1;32m---> 16\u001b[1;33m \u001b[0mniceradd_ints\u001b[0m\u001b[1;33m(\u001b[0m\u001b[1;36m3\u001b[0m\u001b[1;33m,\u001b[0m\u001b[1;36m4\u001b[0m\u001b[1;33m)\u001b[0m\u001b[1;33m\u001b[0m\u001b[0m\n\u001b[0m",
      "\u001b[1;32m<ipython-input-115-d1f53679be5b>\u001b[0m in \u001b[0;36mnew_function\u001b[1;34m(*args, **kwargs)\u001b[0m\n\u001b[0;32m      1\u001b[0m \u001b[1;32mdef\u001b[0m \u001b[0mdocument_it\u001b[0m\u001b[1;33m(\u001b[0m\u001b[0mfunc\u001b[0m\u001b[1;33m)\u001b[0m\u001b[1;33m:\u001b[0m\u001b[1;33m\u001b[0m\u001b[0m\n\u001b[0;32m      2\u001b[0m     \u001b[1;32mdef\u001b[0m \u001b[0mnew_function\u001b[0m\u001b[1;33m(\u001b[0m\u001b[1;33m*\u001b[0m\u001b[0margs\u001b[0m\u001b[1;33m,\u001b[0m \u001b[1;33m**\u001b[0m\u001b[0mkwargs\u001b[0m\u001b[1;33m)\u001b[0m\u001b[1;33m:\u001b[0m\u001b[1;33m\u001b[0m\u001b[0m\n\u001b[1;32m----> 3\u001b[1;33m         \u001b[0mprint\u001b[0m\u001b[1;33m(\u001b[0m\u001b[1;34m'running function: '\u001b[0m\u001b[1;33m,\u001b[0m \u001b[0mfunc\u001b[0m\u001b[1;33m.\u001b[0m\u001b[0m_name_\u001b[0m\u001b[1;33m)\u001b[0m\u001b[1;33m\u001b[0m\u001b[0m\n\u001b[0m\u001b[0;32m      4\u001b[0m         \u001b[0mprint\u001b[0m\u001b[1;33m(\u001b[0m\u001b[1;34m'args: '\u001b[0m\u001b[1;33m,\u001b[0m \u001b[0margs\u001b[0m\u001b[1;33m)\u001b[0m\u001b[1;33m\u001b[0m\u001b[0m\n\u001b[0;32m      5\u001b[0m         \u001b[0mprint\u001b[0m\u001b[1;33m(\u001b[0m\u001b[1;34m'kw args: '\u001b[0m\u001b[1;33m,\u001b[0m \u001b[0mkwargs\u001b[0m\u001b[1;33m)\u001b[0m\u001b[1;33m\u001b[0m\u001b[0m\n",
      "\u001b[1;31mAttributeError\u001b[0m: 'function' object has no attribute '_name_'"
     ]
    }
   ],
   "source": [
    "def document_it(func):\n",
    "    def new_function(*args, **kwargs):\n",
    "        print('running function: ', func._name_)\n",
    "        print('args: ', args)\n",
    "        print('kw args: ', kwargs)\n",
    "        result = func(args, kwargs)\n",
    "        print('result: ', result)\n",
    "        return result\n",
    "    return new_function\n",
    "    \n",
    "def add_ints(a, b):\n",
    "    return a+b\n",
    "\n",
    "add_ints(3,4)\n",
    "niceradd_ints = document_it(add_ints)\n",
    "niceradd_ints(3,4)"
   ]
  },
  {
   "cell_type": "code",
   "execution_count": 121,
   "metadata": {
    "collapsed": false
   },
   "outputs": [
    {
     "name": "stdout",
     "output_type": "stream",
     "text": [
      "1\n",
      "1\n",
      "2\n",
      "3\n",
      "5\n",
      "8\n",
      "13\n",
      "21\n",
      "34\n",
      "55\n",
      "89\n",
      "144\n",
      "233\n",
      "377\n",
      "610\n",
      "987\n",
      "1597\n",
      "2584\n",
      "4181\n",
      "6765\n",
      "10946\n",
      "17711\n"
     ]
    }
   ],
   "source": [
    "def recursivefib(n):\n",
    "    if n == 0:\n",
    "        return 0\n",
    "    if n == 1:\n",
    "        return 1\n",
    "    else:\n",
    "        return recursivefib(n-1) + recursivefib(n-2)\n",
    "    \n",
    "for i in range(1, 23):\n",
    "    print(recursivefib(i))"
   ]
  },
  {
   "cell_type": "code",
   "execution_count": 123,
   "metadata": {
    "collapsed": false
   },
   "outputs": [
    {
     "name": "stdout",
     "output_type": "stream",
     "text": [
      "120\n"
     ]
    }
   ],
   "source": [
    "def recursivefact(n):\n",
    "    if n == 1:\n",
    "        return 1\n",
    "    else:\n",
    "        return n*recursivefact(n-1)\n",
    "\n",
    "print(recursivefact(5))"
   ]
  },
  {
   "cell_type": "code",
   "execution_count": 134,
   "metadata": {
    "collapsed": false
   },
   "outputs": [
    {
     "name": "stdout",
     "output_type": "stream",
     "text": [
      "em\n"
     ]
    }
   ],
   "source": [
    "def incommon(word1, word2):\n",
    "    tempResult = set(word1.lower()) & set(word2.lower())\n",
    "    result = sorted(tempResult)\n",
    "    resultString = \"\"\n",
    "    for e in result:\n",
    "        resultString += e\n",
    "    \n",
    "    return resultString\n",
    "    \n",
    "print(incommon('Home', 'meter'))"
   ]
  },
  {
   "cell_type": "code",
   "execution_count": 142,
   "metadata": {
    "collapsed": false
   },
   "outputs": [
    {
     "name": "stdout",
     "output_type": "stream",
     "text": [
      "1  0  0  0  0  0  0  0  \n",
      "\n",
      "1  1  0  0  0  0  0  0  \n",
      "\n",
      "1  2  1  0  0  0  0  0  \n",
      "\n",
      "1  3  3  1  0  0  0  0  \n",
      "\n",
      "1  4  6  4  1  0  0  0  \n",
      "\n",
      "1  5  10  10  5  1  0  0  \n",
      "\n",
      "1  6  15  20  15  6  1  0  \n",
      "\n",
      "1  7  21  35  35  21  7  1  \n",
      "\n"
     ]
    },
    {
     "data": {
      "text/plain": [
       "{(0, 0): 1,\n",
       " (0, 1): 0,\n",
       " (0, 2): 0,\n",
       " (0, 3): 0,\n",
       " (0, 4): 0,\n",
       " (0, 5): 0,\n",
       " (0, 6): 0,\n",
       " (0, 7): 0,\n",
       " (1, 0): 1,\n",
       " (1, 1): 1,\n",
       " (1, 2): 0,\n",
       " (1, 3): 0,\n",
       " (1, 4): 0,\n",
       " (1, 5): 0,\n",
       " (1, 6): 0,\n",
       " (1, 7): 0,\n",
       " (2, 0): 1,\n",
       " (2, 1): 2,\n",
       " (2, 2): 1,\n",
       " (2, 3): 0,\n",
       " (2, 4): 0,\n",
       " (2, 5): 0,\n",
       " (2, 6): 0,\n",
       " (2, 7): 0,\n",
       " (3, 0): 1,\n",
       " (3, 1): 3,\n",
       " (3, 2): 3,\n",
       " (3, 3): 1,\n",
       " (3, 4): 0,\n",
       " (3, 5): 0,\n",
       " (3, 6): 0,\n",
       " (3, 7): 0,\n",
       " (4, 0): 1,\n",
       " (4, 1): 4,\n",
       " (4, 2): 6,\n",
       " (4, 3): 4,\n",
       " (4, 4): 1,\n",
       " (4, 5): 0,\n",
       " (4, 6): 0,\n",
       " (4, 7): 0,\n",
       " (5, 0): 1,\n",
       " (5, 1): 5,\n",
       " (5, 2): 10,\n",
       " (5, 3): 10,\n",
       " (5, 4): 5,\n",
       " (5, 5): 1,\n",
       " (5, 6): 0,\n",
       " (5, 7): 0,\n",
       " (6, 0): 1,\n",
       " (6, 1): 6,\n",
       " (6, 2): 15,\n",
       " (6, 3): 20,\n",
       " (6, 4): 15,\n",
       " (6, 5): 6,\n",
       " (6, 6): 1,\n",
       " (6, 7): 0,\n",
       " (7, 0): 1,\n",
       " (7, 1): 7,\n",
       " (7, 2): 21,\n",
       " (7, 3): 35,\n",
       " (7, 4): 35,\n",
       " (7, 5): 21,\n",
       " (7, 6): 7,\n",
       " (7, 7): 1}"
      ]
     },
     "execution_count": 142,
     "metadata": {},
     "output_type": "execute_result"
    }
   ],
   "source": [
    "def chessBoard(n):\n",
    "    board = {}\n",
    "    for r in range(0,n):\n",
    "        for c in range(0,n):\n",
    "            if (r == 0 and c == 0) or (c == 0):\n",
    "                board[(r,c)] = 1\n",
    "            else: \n",
    "                board[(r,c)] = 0\n",
    "    \n",
    "    for r in range(1,n):\n",
    "        for c in range(1,n):\n",
    "            if board[(r-1, c-1)] > 0:\n",
    "                board[(r,c)] += board[(r-1, c-1)]\n",
    "            if board[(r-1, c)] > 0:\n",
    "                board[(r,c)] += board[(r-1, c)]\n",
    "    \n",
    "    for r in range(0,n):\n",
    "        for c in range(0,n):\n",
    "            print(board[(r,c)], \" \", end=\"\")\n",
    "        print(\"\\n\")\n",
    "\n",
    "    return board\n",
    "\n",
    "chessBoard(8)\n"
   ]
  },
  {
   "cell_type": "code",
   "execution_count": 14,
   "metadata": {
    "collapsed": false
   },
   "outputs": [
    {
     "name": "stdout",
     "output_type": "stream",
     "text": [
      "50\n",
      "25\n",
      "12\n",
      "6\n",
      "9\n",
      "got it! Took  5  guesses.\n"
     ]
    }
   ],
   "source": [
    "def findyournumber(n, min=1, max=100):\n",
    "    count = 0\n",
    "    guess = (min+max)//2\n",
    "    while guess != n:\n",
    "        print(guess)\n",
    "        count += 1\n",
    "        if guess > n:\n",
    "            max = guess - 1\n",
    "        elif guess < n:\n",
    "            min = guess + 1\n",
    "        guess = (min+max)//2\n",
    "    \n",
    "    print(\"got it! Took \", count, \" guesses.\")\n",
    "    \n",
    "findyournumber(10)"
   ]
  },
  {
   "cell_type": "code",
   "execution_count": 17,
   "metadata": {
    "collapsed": false
   },
   "outputs": [
    {
     "name": "stdout",
     "output_type": "stream",
     "text": [
      "[1, 4, 16, 25, 49, 64]\n"
     ]
    }
   ],
   "source": [
    "answer = [x**2 for x in range(1,10) if x**2 % 3 ==1]\n",
    "print(answer)"
   ]
  },
  {
   "cell_type": "code",
   "execution_count": 31,
   "metadata": {
    "collapsed": false
   },
   "outputs": [
    {
     "name": "stdout",
     "output_type": "stream",
     "text": [
      "[(3, 4, 5), (5, 12, 13), (6, 8, 10), (8, 15, 17), (9, 12, 15), (12, 16, 20)]\n"
     ]
    }
   ],
   "source": [
    "answer = [(x,y,z) for x in range(1,25) for y in range(1,25) for z in range(1,25)  if x**2 + y**2 == z**2 and x<=y<=z]\n",
    "print(answer)"
   ]
  },
  {
   "cell_type": "code",
   "execution_count": 32,
   "metadata": {
    "collapsed": false
   },
   "outputs": [
    {
     "name": "stdout",
     "output_type": "stream",
     "text": [
      "['acqueline', 'Jcqueline', 'Jaqueline', 'Jacueline', 'Jacqeline', 'Jacquline', 'Jacqueine', 'Jacquelne', 'Jacquelie', 'Jacquelin']\n"
     ]
    }
   ],
   "source": [
    "def minusOne(word):\n",
    "    answer = [word[:n] + word[n+1:] for n in range(len(word))]\n",
    "    return answer\n",
    "\n",
    "print(minusOne('Jacqueline'))"
   ]
  },
  {
   "cell_type": "code",
   "execution_count": 34,
   "metadata": {
    "collapsed": false
   },
   "outputs": [
    {
     "name": "stdout",
     "output_type": "stream",
     "text": [
      "['Jecqueline', 'Jicqueline', 'Jocqueline', 'Jucqueline', 'Jacqaeline', 'Jacqeeline', 'Jacqieline', 'Jacqoeline', 'Jacqualine', 'Jacquiline', 'Jacquoline', 'Jacquuline', 'Jacquelane', 'Jacquelene', 'Jacquelone', 'Jacquelune', 'Jacquelina', 'Jacquelini', 'Jacquelino', 'Jacquelinu']\n"
     ]
    }
   ],
   "source": [
    "def vowelSwap(word):\n",
    "    answer = [word[:n] + vow + word[n+1:] for n in range(len(word)) for vow in 'aeiou' if word[n] in 'aeiou' and word[:n] + vow + word[n+1:] != word]\n",
    "    return answer\n",
    "\n",
    "print(vowelSwap('Jacqueline'))\n",
    "    "
   ]
  },
  {
   "cell_type": "code",
   "execution_count": 2,
   "metadata": {
    "collapsed": false
   },
   "outputs": [
    {
     "name": "stdout",
     "output_type": "stream",
     "text": [
      "{'e': 2, 'u': 1, 'c': 1, 'a': 1, 'q': 1, 'n': 1, 'l': 1, 'j': 1, 'i': 1}\n"
     ]
    }
   ],
   "source": [
    "def groupEm(word):\n",
    "    counts = dict([(let, word.lower().count(let)) for let in word.lower()])\n",
    "    return counts\n",
    "\n",
    "print(groupEm('Jacqueline'))"
   ]
  },
  {
   "cell_type": "code",
   "execution_count": 283,
   "metadata": {
    "collapsed": false
   },
   "outputs": [
    {
     "name": "stdout",
     "output_type": "stream",
     "text": [
      "56\n",
      "{'w': 8, 'v': 10, 'u': 14, 't': 22, 's': 28, 'r': 60, 'q': 1, 'p': 13, 'z': 5, 'y': 8, 'x': 2, 'g': 13, 'f': 11, 'e': 70, 'd': 33, 'c': 25, 'b': 10, 'a': 72, 'o': 39, 'n': 49, 'm': 25, 'l': 48, 'k': 11, 'j': 4, 'i': 49, 'h': 29}\n"
     ]
    }
   ],
   "source": [
    "def lettersMissing(words):\n",
    "    letters = \"\"\n",
    "    for word in words:\n",
    "        for let in word:\n",
    "            letters += let\n",
    "    answer = [miss for miss in 'abcdefghijklmnopqrstuvwxyz' if miss not in letters.lower()]\n",
    "    #print(\"# missing = \", len(answer))\n",
    "    return answer\n",
    "\n",
    "def bagOletters(nameList):\n",
    "    answer = \"\"\n",
    "    for word in nameList:\n",
    "        for let in word.lower():\n",
    "            if let.lower() in 'abcdefghijklmnopqrstuvwxyz':\n",
    "                answer += let.lower()\n",
    "    return answer\n",
    "\n",
    "allNames = ['Sebastian Michaelis', 'Ciel Phantomhive', 'Baldroy', 'Finnian', 'Mey-Rin', 'Tanaka', 'Snake', 'Vincent Phantomhive', \\\n",
    "'Rachel Phantomhive', 'Madam Red', 'Lao', 'Ran-Mao', 'Soma Asman Kadar', 'Agni', 'Elizabeth Ethel Cordelia Midford', 'Francis Midford', \\\n",
    "'Alexis Leon Midford', 'Chlaus', 'Diedrich', 'Grell Sutcliff', 'Undertaker', 'William T. Spears', 'Ronald Knox', 'Ludgar', 'Sascha', \\\n",
    "'Kelvin', 'Joker', 'Beast', 'Doctor', 'Dagger', 'Peter', 'Wendy', 'Jumbo', 'Doll', 'Azzurro Vanel', 'Aleister Chamber', 'Paula', \\\n",
    "'Nina Hopkins', 'Arthur Randall', 'Fred Abberline', 'Harold West Jeb', 'Mina', 'Arthur Conan Doyle', 'Georg von Siemens', 'Karl Woodley', \\\n",
    "'Patrick Phelps', 'Grimsby Keane', 'Irene Diaz', 'Queen Victoria', 'John Brown', 'Charles Grey', 'Charles Phipps', 'Edward Midford', \\\n",
    "'Herman Greenhill', 'Lawrence Bluewer', 'Clayton', 'McMillan', 'Edgar Redmond', 'Maurice Cole', 'Joanne Harcourt', 'Derrick Arden', \\\n",
    "'Gregory Violet', 'Cheslock', 'Johann Agares', 'Sieglinde Sullivan', 'Wolfram Geltzer', 'Hilda Dickhaut', 'Professor Sullivan']\n",
    "\n",
    "#allNames = ['Sebastian Michaelis', 'Ciel Phantomhive', 'Baldroy', 'Finnian', 'Mey-Rin', 'Tanaka', 'Snake', 'Vincent Phantomhive', \\\n",
    "#'Rachel Phantomhive', 'Madam Red', 'Lao', 'Ran-Mao', 'Soma Asman Kadar', 'Agni', 'Elizabeth Ethel Cordelia Midford', 'Francis Midford', \\\n",
    "#'Alexis Leon Midford', 'Grell Sutcliff', 'Undertaker', 'William T. Spears', 'Ronald Knox',  \\\n",
    "#'Kelvin', 'Joker', 'Beast', 'Doctor', 'Dagger', 'Peter', 'Wendy', 'Jumbo', 'Doll', 'Azzurro Vanel', 'Paula', \\\n",
    "#'Arthur Randall', 'Fred Abberline', 'Mina', 'Arthur Conan Doyle', \\\n",
    "#'Queen Victoria', 'Edward Midford', \\\n",
    "#'Derrick Arden', \\\n",
    "#'Gregory Violet']\n",
    "\n",
    "print(len(allNames))\n",
    "print(groupEm(bagOletters(allNames)))\n",
    "\n",
    "#print(lettersMissing(['Queen Victoria', 'Harold West Jeb', 'Ronald Knox', 'Elizabeth Ethel Cordelia Midford', 'Alexis Leon Midford', \\\n",
    "#'Sebastian Michaelis', 'Grell Sutcliff', 'Mey-rin', 'Vincent Phantomhive']))\n",
    "                    "
   ]
  },
  {
   "cell_type": "code",
   "execution_count": 248,
   "metadata": {
    "collapsed": false
   },
   "outputs": [
    {
     "name": "stdout",
     "output_type": "stream",
     "text": [
      "letters left:  ['d', 'f', 'g', 'q', 'u', 'w', 'x', 'y', 'z']\n",
      "Elizabeth Ethel Cordelia Midford has a Z\n",
      "Wolfram Geltzer has a Z\n",
      "Adding  Wolfram Geltzer!  (because he/she/it had 4 of the missing letters)\n",
      "\n",
      "\n",
      "letters left:  ['d', 'q', 'u', 'x', 'y']\n",
      "Adding  Arthur Conan Doyle!  (because he/she/it had 3 of the missing letters)\n",
      "\n",
      "\n",
      "letters left:  ['q', 'x']\n",
      "Adding  Alexis Leon Midford!  (because he/she/it had 1 of the missing letters)\n",
      "\n",
      "\n",
      "letters left:  ['q']\n",
      "Adding  Queen Victoria!  (because he/she/it had 1 of the missing letters)\n",
      "\n",
      "\n",
      "letters left:  0\n",
      "['Sebastian Michaelis', 'Joker', 'Ciel Phantomhive', 'Wolfram Geltzer', 'Arthur Conan Doyle', 'Alexis Leon Midford', 'Queen Victoria']\n"
     ]
    }
   ],
   "source": [
    "def findSmallestList(nameList, BlackButler=True):\n",
    "\n",
    "    if BlackButler:\n",
    "        answerList = ['Sebastian Michaelis', 'Joker', 'Ciel Phantomhive']\n",
    "    else:\n",
    "        answerList = ['Xaro Xhoan Daxos']\n",
    "\n",
    "    letsLeft = lettersMissing(answerList)\n",
    "    best = 0\n",
    "            \n",
    "    #let's get the z name first\n",
    "    print(\"letters left: \", letsLeft)\n",
    "    for name in nameList:\n",
    "        letsFound = set([let.lower() for let in name if let.lower() in letsLeft])\n",
    "        #print(name, str(letsFound), len(letsFound))\n",
    "        if len(letsFound) > best and 'z' in letsFound:\n",
    "            best = len(letsFound)  #Find the best name to add\n",
    "            print(name, \"has a Z\")\n",
    "\n",
    "    for name in nameList:\n",
    "        letsFound = set([let.lower() for let in name if let.lower() in letsLeft])\n",
    "        if len(letsFound) == best and 'z' in letsFound:\n",
    "            answerList.append(name)\n",
    "            print(\"Adding \", name + \"!  (because he/she/it had \" + str(len(letsFound)) + \" of the missing letters)\")\n",
    "            print(\"\\n\")\n",
    "            letsLeft = lettersMissing(answerList)\n",
    "            best = 0\n",
    "        \n",
    "    while len(letsLeft) > 0:\n",
    "        print(\"letters left: \", letsLeft)\n",
    "        for name in nameList:\n",
    "            letsFound = set([let.lower() for let in name if let.lower() in letsLeft])\n",
    "            #print(name, str(letsFound), len(letsFound))\n",
    "            if len(letsFound) > best:\n",
    "                best = len(letsFound)  #Find the best name to add\n",
    "                #print(\"best is now\", best)\n",
    "\n",
    "        for name in nameList:\n",
    "            letsFound = set([let.lower() for let in name if let.lower() in letsLeft])\n",
    "            if len(letsFound) == best:\n",
    "                answerList.append(name)\n",
    "                print(\"Adding \", name + \"!  (because he/she/it had \" + str(len(letsFound)) + \" of the missing letters)\")\n",
    "                print(\"\\n\")\n",
    "                letsLeft = lettersMissing(answerList)\n",
    "                best = 0\n",
    "                break\n",
    "    \n",
    "    print(\"letters left: \", len(letsLeft))\n",
    "    return answerList\n",
    "\n",
    "print(findSmallestList(allNames))\n",
    "\n",
    "    "
   ]
  },
  {
   "cell_type": "code",
   "execution_count": 249,
   "metadata": {
    "collapsed": false
   },
   "outputs": [
    {
     "name": "stdout",
     "output_type": "stream",
     "text": [
      "{'W', 'V', 'U', 'T', 'S', 'R', 'Q', 'P', 'G', 'F', 'E', 'D', 'C', 'B', 'A', 'N', 'M', 'L', 'K', 'J', 'I', 'H'}\n",
      "ABCDEFGHIJKLMNPQRSTUVW\n",
      "First letters missing from alphabet  ['O', 'X', 'Y', 'Z']\n"
     ]
    }
   ],
   "source": [
    "#print(allNames)\n",
    "\n",
    "answer = set([name[0] for name in allNames])\n",
    "print(answer)\n",
    "\n",
    "string = ''\n",
    "for let in answer:\n",
    "    if let in 'ABCDEFGHIJKLMNOPQRSTUVWXYZ':\n",
    "        string += let\n",
    "\n",
    "sortedstring = sorted(string)\n",
    "\n",
    "answer = ''\n",
    "for let in sortedstring:\n",
    "    answer += let\n",
    "print(answer)\n",
    "\n",
    "print(\"First letters missing from alphabet \", [let for let in 'ABCDEFGHIJKLMNOPQRSTUVWXYZ' if let not in answer])"
   ]
  },
  {
   "cell_type": "code",
   "execution_count": 250,
   "metadata": {
    "collapsed": false
   },
   "outputs": [
    {
     "name": "stdout",
     "output_type": "stream",
     "text": [
      "Sebastian MichaelisCiel PhantomhiveBaldroyFinnianMey-RinTanakaSnakeVincent PhantomhiveRachel PhantomhiveMadam RedLaoRan-MaoSoma Asman KadarAgniElizabeth Ethel Cordelia MidfordFrancis MidfordAlexis Leon MidfordChlausDiedrichGrell SutcliffUndertakerWilliam T. SpearsRonald KnoxLudgarSaschaKelvinJokerBeastDoctorDaggerPeterWendyJumboDollAzzurro VanelAleister ChamberPaulaNina HopkinsArthur RandallFred AbberlineHarold West JebMinaArthur Conan DoyleGeorg von SiemensKarl WoodleyPatrick PhelpsGrimsby KeaneIrene DiazQueen VictoriaJohn BrownCharles GreyCharles PhippsEdward MidfordHerman GreenhillLawrence BluewerClaytonMcMillanEdgar RedmondMaurice ColeJoanne HarcourtDerrick ArdenGregory VioletCheslockJohann AgaresSieglinde SullivanWolfram GeltzerHilda DickhautProfessor Sullivan\n",
      "SMCPBFMRTSVPRPMRLRMSAKAEECMFMALMCDGSUWTSRKLSKJBDDPWJDAVACPNHARFAHWJMACDGSKWPPGKIDQVJBCGCPEMHGLBCMMERMCJHDAGVCJASSWGHDPS\n",
      "First letters missing from alphabet  ['O', 'X', 'Y', 'Z']\n"
     ]
    }
   ],
   "source": [
    "#print(allNames)\n",
    "Names = ''\n",
    "for name in allNames:\n",
    "    for let in name:\n",
    "        Names += let\n",
    "    \n",
    "print(Names)\n",
    "\n",
    "string = ''\n",
    "for let in Names:\n",
    "    if let in 'ABCDEFGHIJKLMNOPQRSTUVWXYZ':\n",
    "        string += let\n",
    "\n",
    "answer = ''\n",
    "for let in string:\n",
    "    answer += let\n",
    "print(answer)\n",
    "\n",
    "print(\"First letters missing from alphabet \", [let for let in 'ABCDEFGHIJKLMNOPQRSTUVWXYZ' if let not in answer])"
   ]
  },
  {
   "cell_type": "code",
   "execution_count": 251,
   "metadata": {
    "collapsed": false
   },
   "outputs": [
    {
     "name": "stdout",
     "output_type": "stream",
     "text": [
      "[1, 2, 3, 5, 7, 11, 13, 17, 19, 23, 29, 31, 37, 41, 43, 47, 53, 59, 61, 67, 71, 73, 79, 83, 89, 97]\n",
      "[1, 4, 9, 16, 25, 36, 49, 64, 81]\n",
      "[0, 2, 4, 6, 8, 10, 12, 14, 16, 18, 20, 22, 24, 26, 28, 30, 32, 34, 36, 38, 40, 42, 44, 46, 48]\n",
      "[2, 0]\n",
      "[(3, 4, 5), (5, 12, 13), (6, 8, 10), (7, 24, 25), (8, 15, 17), (9, 12, 15), (9, 40, 41), (10, 24, 26), (11, 60, 61), (12, 16, 20), (12, 35, 37), (13, 84, 85), (14, 48, 50), (15, 20, 25), (15, 36, 39), (16, 30, 34), (16, 63, 65), (18, 24, 30), (18, 80, 82), (20, 21, 29), (20, 48, 52), (21, 28, 35), (21, 72, 75), (24, 32, 40), (24, 45, 51), (24, 70, 74), (25, 60, 65), (27, 36, 45), (28, 45, 53), (30, 40, 50), (30, 72, 78), (32, 60, 68), (33, 44, 55), (33, 56, 65), (35, 84, 91), (36, 48, 60), (36, 77, 85), (39, 52, 65), (39, 80, 89), (40, 42, 58), (40, 75, 85), (42, 56, 70), (45, 60, 75), (48, 55, 73), (48, 64, 80), (51, 68, 85), (54, 72, 90), (57, 76, 95), (60, 63, 87), (65, 72, 97)]\n"
     ]
    }
   ],
   "source": [
    "nonprimes = [y for x in range(2, 10) for y in range(x*2, 100, x)]\n",
    "#print(nonprimes)\n",
    "print([x for x in range(1,100) if x not in nonprimes])\n",
    "\n",
    "print([x**2 for x in range(1,10)])\n",
    "print([x for x in range(50) if x%2==0])\n",
    "\n",
    "numbers = [2, 18, 7 , 9, 13, 224, 0, 17, 21, 24]\n",
    "print([numbers[n] for n in range(0, len(numbers)) if n % 2 == 0 and numbers[n] % 2 == 0])\n",
    "\n",
    "print([(a,b,c) for a in range(1,100) for b in range(a, 100) for c in range(b, 100) if a**2+b**2==c**2])\n"
   ]
  },
  {
   "cell_type": "code",
   "execution_count": 252,
   "metadata": {
    "collapsed": false
   },
   "outputs": [
    {
     "name": "stdout",
     "output_type": "stream",
     "text": [
      "[('Ciel Phantomhive', 1), ('Vincent Phantomhive', 2), ('Rachel Phantomhive', 1), ('Kelvin', 1), ('Azzurro Vanel', 1), ('Georg von Siemens', 1), ('Queen Victoria', 1), ('Gregory Violet', 1), ('Sieglinde Sullivan', 1), ('Professor Sullivan', 1)]\n",
      "\n",
      "\n",
      "['Agni', 'Aleister Chamber', 'Alexis Leon Midford', 'Arthur Conan Doyle', 'Arthur Randall', 'Azzurro Vanel', 'Baldroy', 'Beast', 'Charles Grey', 'Charles Phipps', 'Cheslock', 'Chlaus', 'Ciel Phantomhive', 'Clayton', 'Dagger', 'Derrick Arden', 'Diedrich', 'Doctor', 'Doll', 'Edgar Redmond', 'Edward Midford', 'Elizabeth Ethel Cordelia Midford', 'Finnian', 'Francis Midford', 'Fred Abberline', 'Georg von Siemens', 'Gregory Violet', 'Grell Sutcliff', 'Grimsby Keane', 'Harold West Jeb', 'Herman Greenhill', 'Hilda Dickhaut', 'Irene Diaz', 'Joanne Harcourt', 'Johann Agares', 'John Brown', 'Joker', 'Jumbo', 'Karl Woodley', 'Kelvin', 'Lao', 'Lawrence Bluewer', 'Ludgar', 'Madam Red', 'Maurice Cole', 'McMillan', 'Mey-Rin', 'Mina', 'Nina Hopkins', 'Patrick Phelps', 'Paula', 'Peter', 'Professor Sullivan', 'Queen Victoria', 'Rachel Phantomhive', 'Ran-Mao', 'Ronald Knox', 'Sascha', 'Sebastian Michaelis', 'Sieglinde Sullivan', 'Snake', 'Soma Asman Kadar', 'Tanaka', 'Undertaker', 'Vincent Phantomhive', 'Wendy', 'William T. Spears', 'Wolfram Geltzer']\n",
      "\n",
      "\n",
      "['Abberline', 'Agares', 'Arden', 'Bluewer', 'Brown', 'Chamber', 'Cole', 'Diaz', 'Dickhaut', 'Doyle', 'Geltzer', 'Greenhill', 'Grey', 'Harcourt', 'Hopkins', 'Jeb', 'Kadar', 'Keane', 'Knox', 'Michaelis', 'Midford', 'Phantomhive', 'Phelps', 'Phipps', 'Randall', 'Red', 'Redmond', 'Siemens', 'Spears', 'Sullivan', 'Sutcliff', 'Vanel', 'Victoria', 'Violet', 'Woodley']\n"
     ]
    },
    {
     "data": {
      "text/plain": [
       "[(0, 'Sebastian Michaelis'),\n",
       " (1, 'Ciel Phantomhive'),\n",
       " (2, 'Baldroy'),\n",
       " (3, 'Finnian'),\n",
       " (4, 'Mey-Rin'),\n",
       " (5, 'Tanaka'),\n",
       " (6, 'Snake'),\n",
       " (7, 'Vincent Phantomhive'),\n",
       " (8, 'Rachel Phantomhive'),\n",
       " (9, 'Madam Red'),\n",
       " (10, 'Lao'),\n",
       " (11, 'Ran-Mao'),\n",
       " (12, 'Soma Asman Kadar'),\n",
       " (13, 'Agni'),\n",
       " (14, 'Elizabeth Ethel Cordelia Midford'),\n",
       " (15, 'Francis Midford'),\n",
       " (16, 'Alexis Leon Midford'),\n",
       " (17, 'Chlaus'),\n",
       " (18, 'Diedrich'),\n",
       " (19, 'Grell Sutcliff'),\n",
       " (20, 'Undertaker'),\n",
       " (21, 'William T. Spears'),\n",
       " (22, 'Ronald Knox'),\n",
       " (23, 'Ludgar'),\n",
       " (24, 'Sascha'),\n",
       " (25, 'Kelvin'),\n",
       " (26, 'Joker'),\n",
       " (27, 'Beast'),\n",
       " (28, 'Doctor'),\n",
       " (29, 'Dagger'),\n",
       " (30, 'Peter'),\n",
       " (31, 'Wendy'),\n",
       " (32, 'Jumbo'),\n",
       " (33, 'Doll'),\n",
       " (34, 'Azzurro Vanel'),\n",
       " (35, 'Aleister Chamber'),\n",
       " (36, 'Paula'),\n",
       " (37, 'Nina Hopkins'),\n",
       " (38, 'Arthur Randall'),\n",
       " (39, 'Fred Abberline'),\n",
       " (40, 'Harold West Jeb'),\n",
       " (41, 'Mina'),\n",
       " (42, 'Arthur Conan Doyle'),\n",
       " (43, 'Georg von Siemens'),\n",
       " (44, 'Karl Woodley'),\n",
       " (45, 'Patrick Phelps'),\n",
       " (46, 'Grimsby Keane'),\n",
       " (47, 'Irene Diaz'),\n",
       " (48, 'Queen Victoria'),\n",
       " (49, 'John Brown'),\n",
       " (50, 'Charles Grey'),\n",
       " (51, 'Charles Phipps'),\n",
       " (52, 'Edward Midford'),\n",
       " (53, 'Herman Greenhill'),\n",
       " (54, 'Lawrence Bluewer'),\n",
       " (55, 'Clayton'),\n",
       " (56, 'McMillan'),\n",
       " (57, 'Edgar Redmond'),\n",
       " (58, 'Maurice Cole'),\n",
       " (59, 'Joanne Harcourt'),\n",
       " (60, 'Derrick Arden'),\n",
       " (61, 'Gregory Violet'),\n",
       " (62, 'Cheslock'),\n",
       " (63, 'Johann Agares'),\n",
       " (64, 'Sieglinde Sullivan'),\n",
       " (65, 'Wolfram Geltzer'),\n",
       " (66, 'Hilda Dickhaut'),\n",
       " (67, 'Professor Sullivan')]"
      ]
     },
     "execution_count": 252,
     "metadata": {},
     "output_type": "execute_result"
    }
   ],
   "source": [
    "list(zip([word.count('v') for word in allNames if word.count('v')>0], [word for word in allNames if 'v' in word]))\n",
    "\n",
    "#Names with v and the number of v's\n",
    "print([(word, word.lower().count('v')) for word in allNames if 'v' in word.lower()])\n",
    "\n",
    "float(sum([len(word) for word in allNames]))/float(len([len(word) for word in allNames]))\n",
    "\n",
    "print(\"\\n\")\n",
    "print(sorted(allNames))\n",
    "print(\"\\n\")\n",
    "\n",
    "lastNames = []\n",
    "for name in allNames:\n",
    "    lastNames.append(name.split()[-1])\n",
    "    \n",
    "#Distinct last names, sorted alphabetically\n",
    "print(sorted(list(set(name.split()[-1] for name in allNames if name.find(' ') > 0))))\n",
    "\n",
    "[(allNames.index(name), name) for name in allNames]\n"
   ]
  },
  {
   "cell_type": "code",
   "execution_count": 253,
   "metadata": {
    "collapsed": false
   },
   "outputs": [
    {
     "name": "stdout",
     "output_type": "stream",
     "text": [
      "83\n"
     ]
    }
   ],
   "source": [
    "GOT = ['Tyrion Lannister', 'Cersei Lannister', 'Daenerys Targaryen', 'Jon Snow', 'Sansa Stark', 'Arya Stark', 'Jorah Mormont', \\\n",
    "'Jaime Lannister', 'Samwell Tarly', 'Theon Greyjoy', 'Petyr Baelish', 'Varys', 'Brienne of Tarth', 'Tywin Lannister', \\\n",
    "'Sandor Clegane', 'Bronn', 'Joffrey Baratheon', 'Catelyn Stark', 'Bran Stark', 'Stannis Baratheon', 'Missandei', 'Robb Stark', \\\n",
    "'Margaery Tyrell', 'Davos Seaworth', 'Shae', 'Melisandre', 'Gilly', 'Tommen Baratheon', 'Roose Bolton', 'Tormund Giantsbane', \\\n",
    "'Gendry', 'Ygritte', 'Daario Naharis', 'Ramsay Bolton', 'Jaqen H''ghar', 'Jeor Mormont', 'Talisa Stark', 'Ned Stark', \\\n",
    "'Khal Drogo', 'Ellaria Sand', 'Robert Baratheon', 'Viserys Targaryen', 'Grand Maester Pycelle', 'Barristan Selmy', \\\n",
    "'Eddison Tollett', 'Podrick Payne', 'Grenn', 'Hodor', 'Loras Tyrell', 'Meryn Trant', 'Grey Worm', 'Alliser Thorne', \\\n",
    "'Janos Slynt', 'Osha', 'Maester Luwin', 'Ros', 'Olly', 'Lancel Lannister', 'Myrcella Baratheon', 'Pypar', 'Irri', 'Rickon Stark', \\\n",
    "'Rast', 'Rodrik Cassel', 'Olenna Tyrell', 'Hot Pie', 'Maester Aemon', 'Qyburn', 'Selyse Baratheon', 'Doreah', 'Othell Yarwyck', \\\n",
    "'Shireen Baratheon', 'Jojen Reed', 'Oberyn Martell', 'Mance Rayder', 'The High Sparrow', 'Hallyne', 'Xaro Xhoan Daxos', \\\n",
    "'Yezzan mo Qaggaz', 'Kraznys mo Nakloz', 'Mirri Maz Duur', 'Razdal mo Eraz', 'Prendahl na Ghezn']\n",
    "\n",
    "print(len(GOT))"
   ]
  },
  {
   "cell_type": "code",
   "execution_count": 254,
   "metadata": {
    "collapsed": false
   },
   "outputs": [
    {
     "name": "stdout",
     "output_type": "stream",
     "text": [
      "{'w': 8, 'v': 3, 'u': 5, 't': 62, 's': 59, 'r': 107, 'q': 3, 'p': 9, 'z': 9, 'y': 40, 'x': 3, 'g': 18, 'f': 3, 'e': 92, 'd': 24, 'c': 11, 'b': 20, 'a': 111, 'o': 66, 'n': 81, 'm': 28, 'l': 54, 'k': 15, 'j': 10, 'i': 37, 'h': 31}\n",
      "letters left:  ['b', 'c', 'e', 'f', 'g', 'i', 'j', 'k', 'l', 'm', 'p', 'q', 't', 'u', 'v', 'w', 'y', 'z']\n",
      "Yezzan mo Qaggaz has a Z\n",
      "Adding  Yezzan mo Qaggaz!  (because he/she/it had 6 of the missing letters)\n",
      "\n",
      "\n",
      "letters left:  ['b', 'c', 'f', 'i', 'j', 'k', 'l', 'p', 't', 'u', 'v', 'w']\n",
      "Adding  Petyr Baelish!  (because he/she/it had 5 of the missing letters)\n",
      "\n",
      "\n",
      "letters left:  ['c', 'f', 'j', 'k', 'u', 'v', 'w']\n",
      "Adding  Othell Yarwyck!  (because he/she/it had 3 of the missing letters)\n",
      "\n",
      "\n",
      "letters left:  ['f', 'j', 'u', 'v']\n",
      "Adding  Joffrey Baratheon!  (because he/she/it had 2 of the missing letters)\n",
      "\n",
      "\n",
      "letters left:  ['u', 'v']\n",
      "Adding  Varys!  (because he/she/it had 1 of the missing letters)\n",
      "\n",
      "\n",
      "letters left:  ['u']\n",
      "Adding  Tormund Giantsbane!  (because he/she/it had 1 of the missing letters)\n",
      "\n",
      "\n",
      "letters left:  0\n",
      "['Xaro Xhoan Daxos', 'Yezzan mo Qaggaz', 'Petyr Baelish', 'Othell Yarwyck', 'Joffrey Baratheon', 'Varys', 'Tormund Giantsbane']\n"
     ]
    }
   ],
   "source": [
    "print(groupEm(bagOletters(GOT)))\n",
    "\n",
    "type(groupEm(bagOletters(GOT)))\n",
    "[let for let in 'abcdefghijklmnopqrstuvwxyz' if let not in groupEm(bagOletters(GOT))]\n",
    "\n",
    "print(findSmallestList(GOT, False))\n"
   ]
  },
  {
   "cell_type": "code",
   "execution_count": 255,
   "metadata": {
    "collapsed": false
   },
   "outputs": [
    {
     "name": "stdout",
     "output_type": "stream",
     "text": [
      "{'w': 1, 'v': 1, 'u': 2, 't': 2, 's': 1, 'r': 2, 'q': 1, 'p': 1, 'z': 1, 'y': 1, 'x': 1, 'g': 1, 'f': 1, 'e': 3, 'd': 1, 'c': 1, 'b': 1, 'a': 1, 'o': 4, 'n': 1, 'm': 1, 'l': 1, 'k': 1, 'j': 1, 'i': 1, 'h': 2}\n",
      "{'w': 1, 'v': 1, 'u': 2, 't': 2, 's': 1, 'r': 2, 'q': 1, 'p': 1, 'z': 1, 'y': 1, 'x': 1, 'g': 1, 'f': 1, 'e': 3, 'd': 1, 'c': 1, 'b': 1, 'a': 1, 'o': 4, 'n': 1, 'm': 1, 'l': 1, 'k': 1, 'j': 1, 'i': 1, 'h': 2}\n",
      "abcdefghijklmnopqrstuvwxyz\n"
     ]
    }
   ],
   "source": [
    "TheSentence = 'The quick brown fox jumps over the lazy dog'\n",
    "print(groupEm(bagOletters(TheSentence)))\n",
    "\n",
    "counts = {}\n",
    "\n",
    "for let in TheSentence.replace(\" \", \"\"):\n",
    "    if counts.get(let.lower()) is not None:\n",
    "        counts[let.lower()] += 1\n",
    "    else:\n",
    "        counts[let.lower()] = 1\n",
    "        \n",
    "print(counts)\n",
    "\n",
    "letters = [let for let in counts.keys()]\n",
    "letters.sort()\n",
    "\n",
    "strLetters=\"\"\n",
    "for let in letters:\n",
    "    strLetters += let\n",
    "print(strLetters)\n"
   ]
  },
  {
   "cell_type": "code",
   "execution_count": 263,
   "metadata": {
    "collapsed": false
   },
   "outputs": [
    {
     "name": "stdout",
     "output_type": "stream",
     "text": [
      "{'Grey'}\n",
      "['Charles Grey']\n",
      "['Theon Greyjoy', 'Grey Worm']\n"
     ]
    }
   ],
   "source": [
    "BBNames = set()\n",
    "GOTNames = set()\n",
    "\n",
    "for name in [word.split() for word in allNames]:\n",
    "    for name2 in name:\n",
    "        BBNames.add(name2)\n",
    "\n",
    "for name in [word.split() for word in GOT]:\n",
    "    for name2 in name:\n",
    "        GOTNames.add(name2)   \n",
    "\n",
    "print(BBNames & GOTNames)\n",
    "#print(BBNames - GOTNames == BBNames)\n",
    "\n",
    "#for name in allNames:\n",
    "#    if 'Grey' in name:\n",
    "#        print(name)\n",
    "\n",
    "print([name for name in allNames if 'Grey' in name])\n",
    "print([name for name in GOT if 'Grey' in name])"
   ]
  },
  {
   "cell_type": "code",
   "execution_count": 284,
   "metadata": {
    "collapsed": false
   },
   "outputs": [
    {
     "name": "stdout",
     "output_type": "stream",
     "text": [
      "{'Grey'}\n",
      "['Charles Grey']\n",
      "['Theon Greyjoy', 'Grey Worm']\n",
      "[]\n",
      "12.696428571428571\n",
      "11.831325301204819\n"
     ]
    }
   ],
   "source": [
    "BBNames = {name2 for name in [word.split() for word in allNames] for name2 in name}\n",
    "GOTNames = {name2 for name in [word.split() for word in GOTNames] for name2 in name}\n",
    "\n",
    "print(BBNames & GOTNames)\n",
    "print([name for name in allNames if 'Grey' in name])\n",
    "print([name for name in GOT if 'Grey' in name])\n",
    "\n",
    "print([name for name in allNames if 'Earl' in name])\n",
    "\n",
    "totalLen = 0\n",
    "for Name in allNames:\n",
    "    totalLen += len(Name)\n",
    "\n",
    "print(totalLen / len(allNames))\n",
    "\n",
    "totalLen = 0\n",
    "for Name in GOT:\n",
    "    totalLen += len(Name)\n",
    "\n",
    "print(totalLen / len(GOT))"
   ]
  },
  {
   "cell_type": "code",
   "execution_count": 9,
   "metadata": {
    "collapsed": false
   },
   "outputs": [
    {
     "name": "stdout",
     "output_type": "stream",
     "text": [
      "[1, 2, 3, 5, 7, 11, 13, 17, 19, 23, 29, 31, 37, 41, 43, 47, 53, 59, 61, 67, 71, 73, 79, 83, 89, 97]\n",
      "[1, 1, 2, 3, 5, 8, 13, 21, 34, 55, 89, 144, 233, 377]\n",
      "{1, 2, 3, 5, 13, 89}\n"
     ]
    }
   ],
   "source": [
    "def fib(n):\n",
    "    if n == 1 or n==2:\n",
    "        return 1\n",
    "    else:\n",
    "        return fib(n-1) + fib(n-2)\n",
    "    \n",
    "fibs = [fib(n) for n in range(1,15)]\n",
    "\n",
    "fibsset = set(fibs)\n",
    "\n",
    "nonprimes = [num for a in range(2,100) for num in range(a*2, 100, a)]\n",
    "primes = [num for num in range(1,100) if num not in nonprimes]\n",
    "\n",
    "primesset = set(primes)\n",
    "fibset = set(fibs)\n",
    "\n",
    "print(primes)\n",
    "print(fibs)\n",
    "print(primesset & fibset)"
   ]
  },
  {
   "cell_type": "code",
   "execution_count": 15,
   "metadata": {
    "collapsed": false
   },
   "outputs": [
    {
     "name": "stdout",
     "output_type": "stream",
     "text": [
      "120\n",
      "1\n"
     ]
    }
   ],
   "source": [
    "def fact(n):\n",
    "    if n == 1 or n==0:\n",
    "        return 1\n",
    "    else:\n",
    "        return n * fact(n-1)\n",
    "\n",
    "print(fact(5))\n",
    "\n",
    "def nCk(n, k):\n",
    "    return fact(n) // ((fact(n-k))*(fact(k)))\n",
    "\n",
    "print(nCk(4,4))"
   ]
  }
 ],
 "metadata": {
  "kernelspec": {
   "display_name": "Python 3",
   "language": "python",
   "name": "python3"
  },
  "language_info": {
   "codemirror_mode": {
    "name": "ipython",
    "version": 3
   },
   "file_extension": ".py",
   "mimetype": "text/x-python",
   "name": "python",
   "nbconvert_exporter": "python",
   "pygments_lexer": "ipython3",
   "version": "3.5.1"
  }
 },
 "nbformat": 4,
 "nbformat_minor": 0
}
