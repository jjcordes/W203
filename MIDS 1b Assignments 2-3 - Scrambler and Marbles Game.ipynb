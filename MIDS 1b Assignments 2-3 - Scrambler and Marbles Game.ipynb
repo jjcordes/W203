{
 "cells": [
  {
   "cell_type": "code",
   "execution_count": 69,
   "metadata": {
    "collapsed": false
   },
   "outputs": [],
   "source": [
    "def scramble(s):\n",
    "    strLength = len(s)\n",
    "    \n",
    "    if strLength==1:\n",
    "        return s\n",
    "    else:\n",
    "        while ((strLength & (strLength - 1)) != 0):\n",
    "            s += ' '\n",
    "            strLength += 1\n",
    "        \n",
    "        preshuffleleft = scramble(s[0:strLength / 2]) \n",
    "        preshuffleright = scramble(s[strLength / 2:])\n",
    "        postshuffle = ''\n",
    "        \n",
    "        for i in range(0, len(preshuffleleft)):\n",
    "            postshuffle += preshuffleleft[i]\n",
    "            postshuffle += preshuffleright[i]\n",
    "        \n",
    "        return postshuffle\n",
    "    "
   ]
  },
  {
   "cell_type": "code",
   "execution_count": 73,
   "metadata": {
    "collapsed": false
   },
   "outputs": [
    {
     "name": "stdout",
     "output_type": "stream",
     "text": [
      "MmmadAI.a  mad' \n",
      "->Woyed d!eofig e   dtrna abntdns ef r a  muiniua ddeaidr nteylc  <-\n",
      "->Tnv H r s ' , e s g t   r y g , iu  y e - b n s   s t m s n   w eya p g l l r i o a m r n u o h l r a s w t i d f   n t . v r c h i a   e l     i r o F e o     l?p   s a e n i o . o   s e t    ol p u f   u n n m a o e   n o u o u . a   n e   I s h   e i a <-\n"
     ]
    }
   ],
   "source": [
    "print scramble(\"Madam I'm Adam.\")\n",
    "print '->' + scramble(\"We demand rigidly defined areas of doubt and uncertainty!\") + '<-'\n",
    "print '->' + scramble(\"The illusion of self-awareness. Happy automatons, running on trivial programs. I'll bet you never guess. From the inside, how can you?\") + '<-'\n"
   ]
  },
  {
   "cell_type": "code",
   "execution_count": 79,
   "metadata": {
    "collapsed": false
   },
   "outputs": [],
   "source": [
    "def is_hot(n):\n",
    "    if n<2:\n",
    "        return False\n",
    "    elif not is_hot(n/2) or not is_hot(n-1):\n",
    "        return True\n",
    "    "
   ]
  },
  {
   "cell_type": "code",
   "execution_count": 81,
   "metadata": {
    "collapsed": false
   },
   "outputs": [
    {
     "name": "stdout",
     "output_type": "stream",
     "text": [
      "True\n",
      "None\n",
      "None\n",
      "True\n",
      "None\n",
      "True\n",
      "True\n"
     ]
    }
   ],
   "source": [
    "print is_hot(3)\n",
    "print is_hot(6)\n",
    "print is_hot(10)\n",
    "print is_hot(35)\n",
    "print is_hot(50)\n",
    "print is_hot(99)\n",
    "print is_hot(125)"
   ]
  },
  {
   "cell_type": "code",
   "execution_count": 140,
   "metadata": {
    "collapsed": false
   },
   "outputs": [],
   "source": [
    "class MarblesBoard:\n",
    "    def __init__(self, boardSetup):\n",
    "        self.board = []\n",
    "        self.board = list(boardSetup)\n",
    "        \n",
    "    def __repr__(self):\n",
    "        return '<%s>' % (str(self.board))\n",
    "    \n",
    "    def switch(self):\n",
    "        temp = self.board[0]\n",
    "        self.board[0] = self.board[1] \n",
    "        self.board[1] = temp\n",
    "    \n",
    "    def rotate(self):\n",
    "        temp = self.board[0]\n",
    "        for i in range(1,len(self.board)):\n",
    "            self.board[i - 1] = self.board[i]\n",
    "        self.board[len(self.board) - 1] = temp\n",
    "    \n",
    "    def __len__(self):\n",
    "        return len(self.board)\n",
    "    \n",
    "    def is_solved(self):\n",
    "        if self.board == sorted(self.board):\n",
    "            return True\n",
    "        else:\n",
    "            return False\n",
    "        \n",
    "    def __getitem__(self, index):\n",
    "        return self.board[index]\n",
    "    "
   ]
  },
  {
   "cell_type": "code",
   "execution_count": 131,
   "metadata": {
    "collapsed": false
   },
   "outputs": [
    {
     "data": {
      "text/plain": [
       "<[3, 6, 7, 4, 1, 0, 8, 2, 5]>"
      ]
     },
     "execution_count": 131,
     "metadata": {},
     "output_type": "execute_result"
    }
   ],
   "source": [
    "board = MarblesBoard((3,6,7,4,1,0,8,2,5)) \n",
    "board"
   ]
  },
  {
   "cell_type": "code",
   "execution_count": 123,
   "metadata": {
    "collapsed": false
   },
   "outputs": [
    {
     "data": {
      "text/plain": [
       "<[6, 3, 7, 4, 1, 0, 8, 2, 5]>"
      ]
     },
     "execution_count": 123,
     "metadata": {},
     "output_type": "execute_result"
    }
   ],
   "source": [
    "board.switch()\n",
    "board\n"
   ]
  },
  {
   "cell_type": "code",
   "execution_count": 124,
   "metadata": {
    "collapsed": false
   },
   "outputs": [
    {
     "data": {
      "text/plain": [
       "<[3, 7, 4, 1, 0, 8, 2, 5, 6]>"
      ]
     },
     "execution_count": 124,
     "metadata": {},
     "output_type": "execute_result"
    }
   ],
   "source": [
    "board.rotate()\n",
    "board"
   ]
  },
  {
   "cell_type": "code",
   "execution_count": 125,
   "metadata": {
    "collapsed": false
   },
   "outputs": [
    {
     "data": {
      "text/plain": [
       "<[7, 3, 4, 1, 0, 8, 2, 5, 6]>"
      ]
     },
     "execution_count": 125,
     "metadata": {},
     "output_type": "execute_result"
    }
   ],
   "source": [
    "board.switch()\n",
    "board"
   ]
  },
  {
   "cell_type": "code",
   "execution_count": 137,
   "metadata": {
    "collapsed": false
   },
   "outputs": [
    {
     "name": "stdout",
     "output_type": "stream",
     "text": [
      "False\n",
      "True\n"
     ]
    }
   ],
   "source": [
    "print board.is_solved()\n",
    "board = MarblesBoard((0,1,2,3,4,5,6,7,8)) \n",
    "print board.is_solved()"
   ]
  },
  {
   "cell_type": "code",
   "execution_count": 143,
   "metadata": {
    "collapsed": true
   },
   "outputs": [],
   "source": [
    "class Solver():\n",
    "    def __init__(self, MarblesBoard):\n",
    "        self.mBoard = MarblesBoard\n",
    "        self.steps = 0\n",
    "        \n",
    "    def solve(self):\n",
    "        self.steps = 0\n",
    "        while not self.mBoard.is_solved():\n",
    "            print self.mBoard\n",
    "            if self.mBoard[0] == 0 or self.mBoard[1] == 0 or self.mBoard[0] < self.mBoard[1]:\n",
    "                self.mBoard.rotate()\n",
    "                self.steps += 1\n",
    "            else:\n",
    "                self.mBoard.switch()\n",
    "                self.steps += 1\n",
    "        print \"total steps: \" + str(self.steps)\n",
    "        \n",
    "        "
   ]
  },
  {
   "cell_type": "code",
   "execution_count": 144,
   "metadata": {
    "collapsed": false
   },
   "outputs": [
    {
     "name": "stdout",
     "output_type": "stream",
     "text": [
      "<[1, 3, 0, 2]>\n",
      "<[3, 0, 2, 1]>\n",
      "<[0, 2, 1, 3]>\n",
      "<[2, 1, 3, 0]>\n",
      "<[1, 2, 3, 0]>\n",
      "<[2, 3, 0, 1]>\n",
      "<[3, 0, 1, 2]>\n",
      "total steps: 7\n"
     ]
    }
   ],
   "source": [
    "board = MarblesBoard((1,3,0,2))\n",
    "player = Solver(board)\n",
    "player.solve()\n"
   ]
  },
  {
   "cell_type": "code",
   "execution_count": 145,
   "metadata": {
    "collapsed": false
   },
   "outputs": [
    {
     "name": "stdout",
     "output_type": "stream",
     "text": [
      "<[5, 2, 1, 0, 3, 4]>\n",
      "<[2, 5, 1, 0, 3, 4]>\n",
      "<[5, 1, 0, 3, 4, 2]>\n",
      "<[1, 5, 0, 3, 4, 2]>\n",
      "<[5, 0, 3, 4, 2, 1]>\n",
      "<[0, 3, 4, 2, 1, 5]>\n",
      "<[3, 4, 2, 1, 5, 0]>\n",
      "<[4, 2, 1, 5, 0, 3]>\n",
      "<[2, 4, 1, 5, 0, 3]>\n",
      "<[4, 1, 5, 0, 3, 2]>\n",
      "<[1, 4, 5, 0, 3, 2]>\n",
      "<[4, 5, 0, 3, 2, 1]>\n",
      "<[5, 0, 3, 2, 1, 4]>\n",
      "<[0, 3, 2, 1, 4, 5]>\n",
      "<[3, 2, 1, 4, 5, 0]>\n",
      "<[2, 3, 1, 4, 5, 0]>\n",
      "<[3, 1, 4, 5, 0, 2]>\n",
      "<[1, 3, 4, 5, 0, 2]>\n",
      "<[3, 4, 5, 0, 2, 1]>\n",
      "<[4, 5, 0, 2, 1, 3]>\n",
      "<[5, 0, 2, 1, 3, 4]>\n",
      "<[0, 2, 1, 3, 4, 5]>\n",
      "<[2, 1, 3, 4, 5, 0]>\n",
      "<[1, 2, 3, 4, 5, 0]>\n",
      "<[2, 3, 4, 5, 0, 1]>\n",
      "<[3, 4, 5, 0, 1, 2]>\n",
      "<[4, 5, 0, 1, 2, 3]>\n",
      "<[5, 0, 1, 2, 3, 4]>\n",
      "total steps: 28\n"
     ]
    }
   ],
   "source": [
    "board = MarblesBoard((5,2,1,0,3,4))\n",
    "player = Solver(board)\n",
    "player.solve()"
   ]
  },
  {
   "cell_type": "code",
   "execution_count": 146,
   "metadata": {
    "collapsed": false
   },
   "outputs": [
    {
     "name": "stdout",
     "output_type": "stream",
     "text": [
      "<[3, 0, 8, 2, 6, 5, 4, 7, 9, 1]>\n",
      "<[0, 8, 2, 6, 5, 4, 7, 9, 1, 3]>\n",
      "<[8, 2, 6, 5, 4, 7, 9, 1, 3, 0]>\n",
      "<[2, 8, 6, 5, 4, 7, 9, 1, 3, 0]>\n",
      "<[8, 6, 5, 4, 7, 9, 1, 3, 0, 2]>\n",
      "<[6, 8, 5, 4, 7, 9, 1, 3, 0, 2]>\n",
      "<[8, 5, 4, 7, 9, 1, 3, 0, 2, 6]>\n",
      "<[5, 8, 4, 7, 9, 1, 3, 0, 2, 6]>\n",
      "<[8, 4, 7, 9, 1, 3, 0, 2, 6, 5]>\n",
      "<[4, 8, 7, 9, 1, 3, 0, 2, 6, 5]>\n",
      "<[8, 7, 9, 1, 3, 0, 2, 6, 5, 4]>\n",
      "<[7, 8, 9, 1, 3, 0, 2, 6, 5, 4]>\n",
      "<[8, 9, 1, 3, 0, 2, 6, 5, 4, 7]>\n",
      "<[9, 1, 3, 0, 2, 6, 5, 4, 7, 8]>\n",
      "<[1, 9, 3, 0, 2, 6, 5, 4, 7, 8]>\n",
      "<[9, 3, 0, 2, 6, 5, 4, 7, 8, 1]>\n",
      "<[3, 9, 0, 2, 6, 5, 4, 7, 8, 1]>\n",
      "<[9, 0, 2, 6, 5, 4, 7, 8, 1, 3]>\n",
      "<[0, 2, 6, 5, 4, 7, 8, 1, 3, 9]>\n",
      "<[2, 6, 5, 4, 7, 8, 1, 3, 9, 0]>\n",
      "<[6, 5, 4, 7, 8, 1, 3, 9, 0, 2]>\n",
      "<[5, 6, 4, 7, 8, 1, 3, 9, 0, 2]>\n",
      "<[6, 4, 7, 8, 1, 3, 9, 0, 2, 5]>\n",
      "<[4, 6, 7, 8, 1, 3, 9, 0, 2, 5]>\n",
      "<[6, 7, 8, 1, 3, 9, 0, 2, 5, 4]>\n",
      "<[7, 8, 1, 3, 9, 0, 2, 5, 4, 6]>\n",
      "<[8, 1, 3, 9, 0, 2, 5, 4, 6, 7]>\n",
      "<[1, 8, 3, 9, 0, 2, 5, 4, 6, 7]>\n",
      "<[8, 3, 9, 0, 2, 5, 4, 6, 7, 1]>\n",
      "<[3, 8, 9, 0, 2, 5, 4, 6, 7, 1]>\n",
      "<[8, 9, 0, 2, 5, 4, 6, 7, 1, 3]>\n",
      "<[9, 0, 2, 5, 4, 6, 7, 1, 3, 8]>\n",
      "<[0, 2, 5, 4, 6, 7, 1, 3, 8, 9]>\n",
      "<[2, 5, 4, 6, 7, 1, 3, 8, 9, 0]>\n",
      "<[5, 4, 6, 7, 1, 3, 8, 9, 0, 2]>\n",
      "<[4, 5, 6, 7, 1, 3, 8, 9, 0, 2]>\n",
      "<[5, 6, 7, 1, 3, 8, 9, 0, 2, 4]>\n",
      "<[6, 7, 1, 3, 8, 9, 0, 2, 4, 5]>\n",
      "<[7, 1, 3, 8, 9, 0, 2, 4, 5, 6]>\n",
      "<[1, 7, 3, 8, 9, 0, 2, 4, 5, 6]>\n",
      "<[7, 3, 8, 9, 0, 2, 4, 5, 6, 1]>\n",
      "<[3, 7, 8, 9, 0, 2, 4, 5, 6, 1]>\n",
      "<[7, 8, 9, 0, 2, 4, 5, 6, 1, 3]>\n",
      "<[8, 9, 0, 2, 4, 5, 6, 1, 3, 7]>\n",
      "<[9, 0, 2, 4, 5, 6, 1, 3, 7, 8]>\n",
      "<[0, 2, 4, 5, 6, 1, 3, 7, 8, 9]>\n",
      "<[2, 4, 5, 6, 1, 3, 7, 8, 9, 0]>\n",
      "<[4, 5, 6, 1, 3, 7, 8, 9, 0, 2]>\n",
      "<[5, 6, 1, 3, 7, 8, 9, 0, 2, 4]>\n",
      "<[6, 1, 3, 7, 8, 9, 0, 2, 4, 5]>\n",
      "<[1, 6, 3, 7, 8, 9, 0, 2, 4, 5]>\n",
      "<[6, 3, 7, 8, 9, 0, 2, 4, 5, 1]>\n",
      "<[3, 6, 7, 8, 9, 0, 2, 4, 5, 1]>\n",
      "<[6, 7, 8, 9, 0, 2, 4, 5, 1, 3]>\n",
      "<[7, 8, 9, 0, 2, 4, 5, 1, 3, 6]>\n",
      "<[8, 9, 0, 2, 4, 5, 1, 3, 6, 7]>\n",
      "<[9, 0, 2, 4, 5, 1, 3, 6, 7, 8]>\n",
      "<[0, 2, 4, 5, 1, 3, 6, 7, 8, 9]>\n",
      "<[2, 4, 5, 1, 3, 6, 7, 8, 9, 0]>\n",
      "<[4, 5, 1, 3, 6, 7, 8, 9, 0, 2]>\n",
      "<[5, 1, 3, 6, 7, 8, 9, 0, 2, 4]>\n",
      "<[1, 5, 3, 6, 7, 8, 9, 0, 2, 4]>\n",
      "<[5, 3, 6, 7, 8, 9, 0, 2, 4, 1]>\n",
      "<[3, 5, 6, 7, 8, 9, 0, 2, 4, 1]>\n",
      "<[5, 6, 7, 8, 9, 0, 2, 4, 1, 3]>\n",
      "<[6, 7, 8, 9, 0, 2, 4, 1, 3, 5]>\n",
      "<[7, 8, 9, 0, 2, 4, 1, 3, 5, 6]>\n",
      "<[8, 9, 0, 2, 4, 1, 3, 5, 6, 7]>\n",
      "<[9, 0, 2, 4, 1, 3, 5, 6, 7, 8]>\n",
      "<[0, 2, 4, 1, 3, 5, 6, 7, 8, 9]>\n",
      "<[2, 4, 1, 3, 5, 6, 7, 8, 9, 0]>\n",
      "<[4, 1, 3, 5, 6, 7, 8, 9, 0, 2]>\n",
      "<[1, 4, 3, 5, 6, 7, 8, 9, 0, 2]>\n",
      "<[4, 3, 5, 6, 7, 8, 9, 0, 2, 1]>\n",
      "<[3, 4, 5, 6, 7, 8, 9, 0, 2, 1]>\n",
      "<[4, 5, 6, 7, 8, 9, 0, 2, 1, 3]>\n",
      "<[5, 6, 7, 8, 9, 0, 2, 1, 3, 4]>\n",
      "<[6, 7, 8, 9, 0, 2, 1, 3, 4, 5]>\n",
      "<[7, 8, 9, 0, 2, 1, 3, 4, 5, 6]>\n",
      "<[8, 9, 0, 2, 1, 3, 4, 5, 6, 7]>\n",
      "<[9, 0, 2, 1, 3, 4, 5, 6, 7, 8]>\n",
      "<[0, 2, 1, 3, 4, 5, 6, 7, 8, 9]>\n",
      "<[2, 1, 3, 4, 5, 6, 7, 8, 9, 0]>\n",
      "<[1, 2, 3, 4, 5, 6, 7, 8, 9, 0]>\n",
      "<[2, 3, 4, 5, 6, 7, 8, 9, 0, 1]>\n",
      "<[3, 4, 5, 6, 7, 8, 9, 0, 1, 2]>\n",
      "<[4, 5, 6, 7, 8, 9, 0, 1, 2, 3]>\n",
      "<[5, 6, 7, 8, 9, 0, 1, 2, 3, 4]>\n",
      "<[6, 7, 8, 9, 0, 1, 2, 3, 4, 5]>\n",
      "<[7, 8, 9, 0, 1, 2, 3, 4, 5, 6]>\n",
      "<[8, 9, 0, 1, 2, 3, 4, 5, 6, 7]>\n",
      "<[9, 0, 1, 2, 3, 4, 5, 6, 7, 8]>\n",
      "total steps: 92\n"
     ]
    }
   ],
   "source": [
    "board = MarblesBoard((3,0,8,2,6,5,4,7,9,1))\n",
    "player = Solver(board)\n",
    "player.solve()"
   ]
  },
  {
   "cell_type": "code",
   "execution_count": 147,
   "metadata": {
    "collapsed": false
   },
   "outputs": [
    {
     "name": "stdout",
     "output_type": "stream",
     "text": [
      "<[2, 10, 0, 9, 7, 11, 8, 5, 4, 6, 3, 1]>\n",
      "<[10, 0, 9, 7, 11, 8, 5, 4, 6, 3, 1, 2]>\n",
      "<[0, 9, 7, 11, 8, 5, 4, 6, 3, 1, 2, 10]>\n",
      "<[9, 7, 11, 8, 5, 4, 6, 3, 1, 2, 10, 0]>\n",
      "<[7, 9, 11, 8, 5, 4, 6, 3, 1, 2, 10, 0]>\n",
      "<[9, 11, 8, 5, 4, 6, 3, 1, 2, 10, 0, 7]>\n",
      "<[11, 8, 5, 4, 6, 3, 1, 2, 10, 0, 7, 9]>\n",
      "<[8, 11, 5, 4, 6, 3, 1, 2, 10, 0, 7, 9]>\n",
      "<[11, 5, 4, 6, 3, 1, 2, 10, 0, 7, 9, 8]>\n",
      "<[5, 11, 4, 6, 3, 1, 2, 10, 0, 7, 9, 8]>\n",
      "<[11, 4, 6, 3, 1, 2, 10, 0, 7, 9, 8, 5]>\n",
      "<[4, 11, 6, 3, 1, 2, 10, 0, 7, 9, 8, 5]>\n",
      "<[11, 6, 3, 1, 2, 10, 0, 7, 9, 8, 5, 4]>\n",
      "<[6, 11, 3, 1, 2, 10, 0, 7, 9, 8, 5, 4]>\n",
      "<[11, 3, 1, 2, 10, 0, 7, 9, 8, 5, 4, 6]>\n",
      "<[3, 11, 1, 2, 10, 0, 7, 9, 8, 5, 4, 6]>\n",
      "<[11, 1, 2, 10, 0, 7, 9, 8, 5, 4, 6, 3]>\n",
      "<[1, 11, 2, 10, 0, 7, 9, 8, 5, 4, 6, 3]>\n",
      "<[11, 2, 10, 0, 7, 9, 8, 5, 4, 6, 3, 1]>\n",
      "<[2, 11, 10, 0, 7, 9, 8, 5, 4, 6, 3, 1]>\n",
      "<[11, 10, 0, 7, 9, 8, 5, 4, 6, 3, 1, 2]>\n",
      "<[10, 11, 0, 7, 9, 8, 5, 4, 6, 3, 1, 2]>\n",
      "<[11, 0, 7, 9, 8, 5, 4, 6, 3, 1, 2, 10]>\n",
      "<[0, 7, 9, 8, 5, 4, 6, 3, 1, 2, 10, 11]>\n",
      "<[7, 9, 8, 5, 4, 6, 3, 1, 2, 10, 11, 0]>\n",
      "<[9, 8, 5, 4, 6, 3, 1, 2, 10, 11, 0, 7]>\n",
      "<[8, 9, 5, 4, 6, 3, 1, 2, 10, 11, 0, 7]>\n",
      "<[9, 5, 4, 6, 3, 1, 2, 10, 11, 0, 7, 8]>\n",
      "<[5, 9, 4, 6, 3, 1, 2, 10, 11, 0, 7, 8]>\n",
      "<[9, 4, 6, 3, 1, 2, 10, 11, 0, 7, 8, 5]>\n",
      "<[4, 9, 6, 3, 1, 2, 10, 11, 0, 7, 8, 5]>\n",
      "<[9, 6, 3, 1, 2, 10, 11, 0, 7, 8, 5, 4]>\n",
      "<[6, 9, 3, 1, 2, 10, 11, 0, 7, 8, 5, 4]>\n",
      "<[9, 3, 1, 2, 10, 11, 0, 7, 8, 5, 4, 6]>\n",
      "<[3, 9, 1, 2, 10, 11, 0, 7, 8, 5, 4, 6]>\n",
      "<[9, 1, 2, 10, 11, 0, 7, 8, 5, 4, 6, 3]>\n",
      "<[1, 9, 2, 10, 11, 0, 7, 8, 5, 4, 6, 3]>\n",
      "<[9, 2, 10, 11, 0, 7, 8, 5, 4, 6, 3, 1]>\n",
      "<[2, 9, 10, 11, 0, 7, 8, 5, 4, 6, 3, 1]>\n",
      "<[9, 10, 11, 0, 7, 8, 5, 4, 6, 3, 1, 2]>\n",
      "<[10, 11, 0, 7, 8, 5, 4, 6, 3, 1, 2, 9]>\n",
      "<[11, 0, 7, 8, 5, 4, 6, 3, 1, 2, 9, 10]>\n",
      "<[0, 7, 8, 5, 4, 6, 3, 1, 2, 9, 10, 11]>\n",
      "<[7, 8, 5, 4, 6, 3, 1, 2, 9, 10, 11, 0]>\n",
      "<[8, 5, 4, 6, 3, 1, 2, 9, 10, 11, 0, 7]>\n",
      "<[5, 8, 4, 6, 3, 1, 2, 9, 10, 11, 0, 7]>\n",
      "<[8, 4, 6, 3, 1, 2, 9, 10, 11, 0, 7, 5]>\n",
      "<[4, 8, 6, 3, 1, 2, 9, 10, 11, 0, 7, 5]>\n",
      "<[8, 6, 3, 1, 2, 9, 10, 11, 0, 7, 5, 4]>\n",
      "<[6, 8, 3, 1, 2, 9, 10, 11, 0, 7, 5, 4]>\n",
      "<[8, 3, 1, 2, 9, 10, 11, 0, 7, 5, 4, 6]>\n",
      "<[3, 8, 1, 2, 9, 10, 11, 0, 7, 5, 4, 6]>\n",
      "<[8, 1, 2, 9, 10, 11, 0, 7, 5, 4, 6, 3]>\n",
      "<[1, 8, 2, 9, 10, 11, 0, 7, 5, 4, 6, 3]>\n",
      "<[8, 2, 9, 10, 11, 0, 7, 5, 4, 6, 3, 1]>\n",
      "<[2, 8, 9, 10, 11, 0, 7, 5, 4, 6, 3, 1]>\n",
      "<[8, 9, 10, 11, 0, 7, 5, 4, 6, 3, 1, 2]>\n",
      "<[9, 10, 11, 0, 7, 5, 4, 6, 3, 1, 2, 8]>\n",
      "<[10, 11, 0, 7, 5, 4, 6, 3, 1, 2, 8, 9]>\n",
      "<[11, 0, 7, 5, 4, 6, 3, 1, 2, 8, 9, 10]>\n",
      "<[0, 7, 5, 4, 6, 3, 1, 2, 8, 9, 10, 11]>\n",
      "<[7, 5, 4, 6, 3, 1, 2, 8, 9, 10, 11, 0]>\n",
      "<[5, 7, 4, 6, 3, 1, 2, 8, 9, 10, 11, 0]>\n",
      "<[7, 4, 6, 3, 1, 2, 8, 9, 10, 11, 0, 5]>\n",
      "<[4, 7, 6, 3, 1, 2, 8, 9, 10, 11, 0, 5]>\n",
      "<[7, 6, 3, 1, 2, 8, 9, 10, 11, 0, 5, 4]>\n",
      "<[6, 7, 3, 1, 2, 8, 9, 10, 11, 0, 5, 4]>\n",
      "<[7, 3, 1, 2, 8, 9, 10, 11, 0, 5, 4, 6]>\n",
      "<[3, 7, 1, 2, 8, 9, 10, 11, 0, 5, 4, 6]>\n",
      "<[7, 1, 2, 8, 9, 10, 11, 0, 5, 4, 6, 3]>\n",
      "<[1, 7, 2, 8, 9, 10, 11, 0, 5, 4, 6, 3]>\n",
      "<[7, 2, 8, 9, 10, 11, 0, 5, 4, 6, 3, 1]>\n",
      "<[2, 7, 8, 9, 10, 11, 0, 5, 4, 6, 3, 1]>\n",
      "<[7, 8, 9, 10, 11, 0, 5, 4, 6, 3, 1, 2]>\n",
      "<[8, 9, 10, 11, 0, 5, 4, 6, 3, 1, 2, 7]>\n",
      "<[9, 10, 11, 0, 5, 4, 6, 3, 1, 2, 7, 8]>\n",
      "<[10, 11, 0, 5, 4, 6, 3, 1, 2, 7, 8, 9]>\n",
      "<[11, 0, 5, 4, 6, 3, 1, 2, 7, 8, 9, 10]>\n",
      "<[0, 5, 4, 6, 3, 1, 2, 7, 8, 9, 10, 11]>\n",
      "<[5, 4, 6, 3, 1, 2, 7, 8, 9, 10, 11, 0]>\n",
      "<[4, 5, 6, 3, 1, 2, 7, 8, 9, 10, 11, 0]>\n",
      "<[5, 6, 3, 1, 2, 7, 8, 9, 10, 11, 0, 4]>\n",
      "<[6, 3, 1, 2, 7, 8, 9, 10, 11, 0, 4, 5]>\n",
      "<[3, 6, 1, 2, 7, 8, 9, 10, 11, 0, 4, 5]>\n",
      "<[6, 1, 2, 7, 8, 9, 10, 11, 0, 4, 5, 3]>\n",
      "<[1, 6, 2, 7, 8, 9, 10, 11, 0, 4, 5, 3]>\n",
      "<[6, 2, 7, 8, 9, 10, 11, 0, 4, 5, 3, 1]>\n",
      "<[2, 6, 7, 8, 9, 10, 11, 0, 4, 5, 3, 1]>\n",
      "<[6, 7, 8, 9, 10, 11, 0, 4, 5, 3, 1, 2]>\n",
      "<[7, 8, 9, 10, 11, 0, 4, 5, 3, 1, 2, 6]>\n",
      "<[8, 9, 10, 11, 0, 4, 5, 3, 1, 2, 6, 7]>\n",
      "<[9, 10, 11, 0, 4, 5, 3, 1, 2, 6, 7, 8]>\n",
      "<[10, 11, 0, 4, 5, 3, 1, 2, 6, 7, 8, 9]>\n",
      "<[11, 0, 4, 5, 3, 1, 2, 6, 7, 8, 9, 10]>\n",
      "<[0, 4, 5, 3, 1, 2, 6, 7, 8, 9, 10, 11]>\n",
      "<[4, 5, 3, 1, 2, 6, 7, 8, 9, 10, 11, 0]>\n",
      "<[5, 3, 1, 2, 6, 7, 8, 9, 10, 11, 0, 4]>\n",
      "<[3, 5, 1, 2, 6, 7, 8, 9, 10, 11, 0, 4]>\n",
      "<[5, 1, 2, 6, 7, 8, 9, 10, 11, 0, 4, 3]>\n",
      "<[1, 5, 2, 6, 7, 8, 9, 10, 11, 0, 4, 3]>\n",
      "<[5, 2, 6, 7, 8, 9, 10, 11, 0, 4, 3, 1]>\n",
      "<[2, 5, 6, 7, 8, 9, 10, 11, 0, 4, 3, 1]>\n",
      "<[5, 6, 7, 8, 9, 10, 11, 0, 4, 3, 1, 2]>\n",
      "<[6, 7, 8, 9, 10, 11, 0, 4, 3, 1, 2, 5]>\n",
      "<[7, 8, 9, 10, 11, 0, 4, 3, 1, 2, 5, 6]>\n",
      "<[8, 9, 10, 11, 0, 4, 3, 1, 2, 5, 6, 7]>\n",
      "<[9, 10, 11, 0, 4, 3, 1, 2, 5, 6, 7, 8]>\n",
      "<[10, 11, 0, 4, 3, 1, 2, 5, 6, 7, 8, 9]>\n",
      "<[11, 0, 4, 3, 1, 2, 5, 6, 7, 8, 9, 10]>\n",
      "<[0, 4, 3, 1, 2, 5, 6, 7, 8, 9, 10, 11]>\n",
      "<[4, 3, 1, 2, 5, 6, 7, 8, 9, 10, 11, 0]>\n",
      "<[3, 4, 1, 2, 5, 6, 7, 8, 9, 10, 11, 0]>\n",
      "<[4, 1, 2, 5, 6, 7, 8, 9, 10, 11, 0, 3]>\n",
      "<[1, 4, 2, 5, 6, 7, 8, 9, 10, 11, 0, 3]>\n",
      "<[4, 2, 5, 6, 7, 8, 9, 10, 11, 0, 3, 1]>\n",
      "<[2, 4, 5, 6, 7, 8, 9, 10, 11, 0, 3, 1]>\n",
      "<[4, 5, 6, 7, 8, 9, 10, 11, 0, 3, 1, 2]>\n",
      "<[5, 6, 7, 8, 9, 10, 11, 0, 3, 1, 2, 4]>\n",
      "<[6, 7, 8, 9, 10, 11, 0, 3, 1, 2, 4, 5]>\n",
      "<[7, 8, 9, 10, 11, 0, 3, 1, 2, 4, 5, 6]>\n",
      "<[8, 9, 10, 11, 0, 3, 1, 2, 4, 5, 6, 7]>\n",
      "<[9, 10, 11, 0, 3, 1, 2, 4, 5, 6, 7, 8]>\n",
      "<[10, 11, 0, 3, 1, 2, 4, 5, 6, 7, 8, 9]>\n",
      "<[11, 0, 3, 1, 2, 4, 5, 6, 7, 8, 9, 10]>\n",
      "<[0, 3, 1, 2, 4, 5, 6, 7, 8, 9, 10, 11]>\n",
      "<[3, 1, 2, 4, 5, 6, 7, 8, 9, 10, 11, 0]>\n",
      "<[1, 3, 2, 4, 5, 6, 7, 8, 9, 10, 11, 0]>\n",
      "<[3, 2, 4, 5, 6, 7, 8, 9, 10, 11, 0, 1]>\n",
      "<[2, 3, 4, 5, 6, 7, 8, 9, 10, 11, 0, 1]>\n",
      "<[3, 4, 5, 6, 7, 8, 9, 10, 11, 0, 1, 2]>\n",
      "<[4, 5, 6, 7, 8, 9, 10, 11, 0, 1, 2, 3]>\n",
      "<[5, 6, 7, 8, 9, 10, 11, 0, 1, 2, 3, 4]>\n",
      "<[6, 7, 8, 9, 10, 11, 0, 1, 2, 3, 4, 5]>\n",
      "<[7, 8, 9, 10, 11, 0, 1, 2, 3, 4, 5, 6]>\n",
      "<[8, 9, 10, 11, 0, 1, 2, 3, 4, 5, 6, 7]>\n",
      "<[9, 10, 11, 0, 1, 2, 3, 4, 5, 6, 7, 8]>\n",
      "<[10, 11, 0, 1, 2, 3, 4, 5, 6, 7, 8, 9]>\n",
      "<[11, 0, 1, 2, 3, 4, 5, 6, 7, 8, 9, 10]>\n",
      "total steps: 138\n"
     ]
    }
   ],
   "source": [
    "board = MarblesBoard((2,10,0,9,7,11,8,5,4,6,3,1))\n",
    "player = Solver(board)\n",
    "player.solve()"
   ]
  },
  {
   "cell_type": "code",
   "execution_count": 148,
   "metadata": {
    "collapsed": true
   },
   "outputs": [],
   "source": [
    "class ArrayStack:\n",
    "    \"\"\"LIFO Stack implementation using a Python list as underlying storage\"\"\"\n",
    "    \n",
    "    def __init__(self):\n",
    "        \"\"\"Create an empty stack.\"\"\"\n",
    "        self._data = []      #nonpublic list instance\n",
    "        \n",
    "    def __len__(self):\n",
    "        \"\"\"Return the number of elements in the stack.\"\"\"\n",
    "        return len(self._data)\n",
    "    \n",
    "    def is_empty(self):\n",
    "        \"\"\"Return True if the stack is empty\"\"\"\n",
    "        return len(self._data) == 0\n",
    "    \n",
    "    def push(self, e):\n",
    "        \"\"\"Add elemtn e to the top of the stack.\"\"\"\n",
    "        self._data.append(e)       #new item stored at end of list\n",
    "        \n",
    "    def top(self):\n",
    "        \"\"\"Return (but do not remove) the element at the top of the stack.\n",
    "        \n",
    "        Raise Empty exception if the stack is empty.\n",
    "        \"\"\"\n",
    "        if self.is_empty():\n",
    "            raise Empty('Stack is empty')\n",
    "        return self._data[-1]      #the last item in the list\n",
    "    \n",
    "    def pop(self):\n",
    "        \"\"\"Remove and return the element from the top of the stack (i.e. LIFO).\n",
    "        \n",
    "        Raise Empty exception if the stack is empty.\n",
    "        \"\"\"\n",
    "        if self.is_empty():\n",
    "            raise Empty('Stack is empty')\n",
    "        return self._data.pop()     #remove last item from list\n",
    "    \n",
    "    \n",
    "        \n",
    "    \n",
    "    \n",
    "        "
   ]
  },
  {
   "cell_type": "code",
   "execution_count": 149,
   "metadata": {
    "collapsed": false
   },
   "outputs": [
    {
     "name": "stdout",
     "output_type": "stream",
     "text": [
      "2\n",
      "3\n",
      "False\n",
      "5\n",
      "True\n",
      "9\n",
      "3\n",
      "4\n"
     ]
    }
   ],
   "source": [
    "S = ArrayStack()\n",
    "S.push(5)\n",
    "S.push(3)\n",
    "print(len(S))\n",
    "print(S.pop())\n",
    "print(S.is_empty())\n",
    "print(S.pop())\n",
    "print(S.is_empty())\n",
    "S.push(7)\n",
    "S.push(9)\n",
    "print(S.top())\n",
    "S.push(4)\n",
    "print(len(S))\n",
    "print(S.pop())\n",
    "S.push(6)\n"
   ]
  },
  {
   "cell_type": "code",
   "execution_count": 154,
   "metadata": {
    "collapsed": false
   },
   "outputs": [
    {
     "name": "stdout",
     "output_type": "stream",
     "text": [
      "0\n"
     ]
    }
   ],
   "source": [
    "print(len(S))\n"
   ]
  },
  {
   "cell_type": "code",
   "execution_count": 155,
   "metadata": {
    "collapsed": true
   },
   "outputs": [],
   "source": [
    "S.push('/')\n",
    "S.push(4)\n",
    "S.push('*')\n",
    "S.push('-')\n",
    "S.push(3)\n",
    "S.push(8)\n",
    "S.push('+')\n",
    "S.push(2)\n",
    "S.push(5)\n"
   ]
  },
  {
   "cell_type": "code",
   "execution_count": 159,
   "metadata": {
    "collapsed": true
   },
   "outputs": [],
   "source": [
    "def RP(expr):\n",
    "    '''Input: mathematical expression in RP notation as a list.'''\n",
    "    runningTotal = 0\n",
    "    num1 = 0\n",
    "    num2 = 0\n",
    "    \n",
    "    stack = ArrayStack()\n",
    "    for e in expr:\n",
    "        if e != '+' and e!='-' and e!='/' and e!='*':\n",
    "            stack.push(e)\n",
    "        elif e == '+':\n",
    "            num2 = stack.pop()\n",
    "            num1 = stack.pop()\n",
    "            stack.push(num1 + num2)\n",
    "        elif e == '-':\n",
    "            num2 = stack.pop()\n",
    "            num1 = stack.pop()\n",
    "            stack.push(num1 - num2)\n",
    "        elif e == '*':\n",
    "            num2 = stack.pop()\n",
    "            num1 = stack.pop()\n",
    "            stack.push(num1 * num2)\n",
    "        elif e == '/':\n",
    "            num2 = stack.pop()\n",
    "            num1 = stack.pop()\n",
    "            stack.push(num1 / float(num2))\n",
    "    \n",
    "    return stack.pop()\n",
    "\n",
    "            \n",
    "        "
   ]
  },
  {
   "cell_type": "code",
   "execution_count": 161,
   "metadata": {
    "collapsed": false
   },
   "outputs": [
    {
     "name": "stdout",
     "output_type": "stream",
     "text": [
      "8.75\n",
      "-9.75\n",
      "90.3\n"
     ]
    }
   ],
   "source": [
    "print RP([5,2,'+',8,3,'-','*',4,'/'])\n",
    "print RP([4,2,8,'/',5,2,'+',2,'*','-','+'])\n",
    "print RP([2,2,8,4,5,'/',6,'*','*',3,4,'/',5,'*','+','+',5,'-',2,'*',10,'+','+'])"
   ]
  },
  {
   "cell_type": "code",
   "execution_count": 173,
   "metadata": {
    "collapsed": false
   },
   "outputs": [
    {
     "name": "stdout",
     "output_type": "stream",
     "text": [
      "0.30000000000000004\n"
     ]
    }
   ],
   "source": [
    "print(repr(0.1 + 0.2))"
   ]
  },
  {
   "cell_type": "code",
   "execution_count": 186,
   "metadata": {
    "collapsed": false
   },
   "outputs": [],
   "source": [
    "def maxmin(numlist):\n",
    "    smallnum = 0\n",
    "    bignum = 0\n",
    "    \n",
    "    if len(numlist) == 2:\n",
    "        if numlist[0] < numlist[1]:\n",
    "            smallnum = numlist[0]\n",
    "            bignum =  numlist[1]\n",
    "        else:\n",
    "            smallnum = numlist[1]\n",
    "            bignum =  numlist[0]            \n",
    "    else:\n",
    "        lefthalf = maxmin(numlist[0:len(numlist) / 2])\n",
    "        righthalf = maxmin(numlist[len(numlist) / 2:])        \n",
    "        if lefthalf[0] < righthalf[0]:\n",
    "            smallnum = lefthalf[0]\n",
    "        else:\n",
    "            smallnum = righthalf[0]\n",
    "\n",
    "        if lefthalf[1] > righthalf[1]:\n",
    "            bignum = lefthalf[1]\n",
    "        else:\n",
    "            bignum = righthalf[1]\n",
    "        \n",
    "    candidates = [smallnum, bignum]\n",
    "    return candidates\n",
    "    \n",
    "        "
   ]
  },
  {
   "cell_type": "code",
   "execution_count": 187,
   "metadata": {
    "collapsed": false
   },
   "outputs": [
    {
     "name": "stdout",
     "output_type": "stream",
     "text": [
      "[12, 23]\n",
      "[1, 23]\n"
     ]
    }
   ],
   "source": [
    "print maxmin([23,12])\n",
    "print maxmin([1,23,12,2])"
   ]
  },
  {
   "cell_type": "code",
   "execution_count": 195,
   "metadata": {
    "collapsed": false
   },
   "outputs": [
    {
     "name": "stdout",
     "output_type": "stream",
     "text": [
      "function called!\n",
      "function called!\n",
      "function called!\n",
      "function called!\n",
      "function called!\n",
      "function called!\n",
      "function called!\n",
      "function called!\n",
      "function called!\n",
      "function called!\n",
      "function called!\n",
      "function called!\n",
      "function called!\n",
      "function called!\n",
      "function called!\n",
      "function called!\n",
      "function called!\n",
      "function called!\n",
      "function called!\n",
      "function called!\n",
      "function called!\n",
      "function called!\n",
      "function called!\n",
      "function called!\n",
      "function called!\n",
      "function called!\n",
      "function called!\n",
      "function called!\n",
      "function called!\n",
      "function called!\n",
      "function called!\n",
      "16\n"
     ]
    }
   ],
   "source": [
    "def f(y): \n",
    "    print 'function called!'\n",
    "    if y<2: \n",
    "        return 1 \n",
    "    return f(y//2) + f(y//2) \n",
    "\n",
    "y=16 \n",
    "print(f(y))\n"
   ]
  },
  {
   "cell_type": "code",
   "execution_count": null,
   "metadata": {
    "collapsed": true
   },
   "outputs": [],
   "source": []
  }
 ],
 "metadata": {
  "kernelspec": {
   "display_name": "Python 2",
   "language": "python",
   "name": "python2"
  },
  "language_info": {
   "codemirror_mode": {
    "name": "ipython",
    "version": 2
   },
   "file_extension": ".py",
   "mimetype": "text/x-python",
   "name": "python",
   "nbconvert_exporter": "python",
   "pygments_lexer": "ipython2",
   "version": "2.7.10"
  }
 },
 "nbformat": 4,
 "nbformat_minor": 0
}
