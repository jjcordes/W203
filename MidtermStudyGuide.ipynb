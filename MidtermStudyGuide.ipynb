{
 "cells": [
  {
   "cell_type": "markdown",
   "metadata": {},
   "source": [
    "##Midterm Study Guide!\n",
    "\n",
    "###Lists"
   ]
  },
  {
   "cell_type": "code",
   "execution_count": 18,
   "metadata": {
    "collapsed": false
   },
   "outputs": [
    {
     "name": "stdout",
     "output_type": "stream",
     "text": [
      "['Durant', 'Jabbar', 'Jordan', 'LeBron', 'Magic']\n",
      "Durant\n",
      "Jabbar\n",
      "Jordan\n",
      "LeBron\n",
      "Magic\n",
      "8\n",
      "1\n",
      "Davis\n",
      "Durant, Westbrook, Jabbar, Jordan, LeBron, Magic, Curry\n",
      "['Durant', 'Westbrook', 'Jabbar', 'Jordan', 'LeBron', 'Magic', 'Curry']\n"
     ]
    }
   ],
   "source": [
    "test = ['Jordan', 'LeBron', 'Magic', 'Jabbar', 'Durant']\n",
    "test.append('Barkley')\n",
    "test.sort()\n",
    "test.remove('Barkley')\n",
    "print(test)\n",
    "for item in test:\n",
    "    print(item)\n",
    "\n",
    "list2 = ['Harden', 'Curry', 'Davis']\n",
    "test.extend(list2)\n",
    "\n",
    "test.insert(1,\"Westbrook\")\n",
    "\n",
    "del test[test.index(\"Harden\")]\n",
    "\n",
    "print(len(test))\n",
    "print(test.count('Jordan'))\n",
    "\n",
    "print(test.pop())\n",
    "\n",
    "strList = ', '.join(test)\n",
    "print(strList)\n",
    "\n",
    "anotherlist = test.copy()\n",
    "print(anotherlist)"
   ]
  },
  {
   "cell_type": "markdown",
   "metadata": {},
   "source": [
    "##Strings"
   ]
  },
  {
   "cell_type": "code",
   "execution_count": 8,
   "metadata": {
    "collapsed": false
   },
   "outputs": [
    {
     "name": "stdout",
     "output_type": "stream",
     "text": [
      "16\n",
      "2\n",
      "      Durant, Jabbar, Jordan, LeBron, Magic       \n",
      "Durant, Jabbar, Jordan, LeBron, Magic             \n",
      "             Durant, Jabbar, Jordan, LeBron, Magic\n",
      "Durant, Jabbar, Jordan, LeBron, Johnson\n"
     ]
    }
   ],
   "source": [
    "print(strList.find(\"Jordan\"))\n",
    "print(strList.count(\"J\"))\n",
    "print(strList.center(50))\n",
    "print(strList.ljust(50))\n",
    "print(strList.rjust(50))\n",
    "print(strList.replace(\"Magic\", \"Johnson\"))\n"
   ]
  },
  {
   "cell_type": "markdown",
   "metadata": {},
   "source": [
    "##Dictionaries"
   ]
  },
  {
   "cell_type": "code",
   "execution_count": 41,
   "metadata": {
    "collapsed": false
   },
   "outputs": [
    {
     "name": "stdout",
     "output_type": "stream",
     "text": [
      "{'Jabbar': 'historic', 'Jordan': 'GOAT', 'LeBron': 'Vice goat', 'Curry': 'best shooter ever', 'Durant': 'great', 'Westbrook': 'really good', 'Magic': 'supernatural'}\n",
      "\n",
      "\n",
      "dict_keys(['Jabbar', 'Jordan', 'LeBron', 'Curry', 'Durant', 'Westbrook', 'Magic'])\n",
      "dict_values(['historic', 'GOAT', 'Vice goat', 'best shooter ever', 'great', 'really good', 'supernatural'])\n",
      "dict_items([('Jabbar', 'historic'), ('Jordan', 'GOAT'), ('LeBron', 'Vice goat'), ('Curry', 'best shooter ever'), ('Durant', 'great'), ('Westbrook', 'really good'), ('Magic', 'supernatural')])\n",
      "{'Jabbar': 'historic', 'Jordan': 'GOAT', 'LeBron': 'Vice goat', 'Curry': 'best shooter ever', 'Durant': 'great', 'Westbrook': 'really good', 'Magic': 'supernatural', 'Barkley': 'Round mound of rebound'}\n",
      "GOAT\n"
     ]
    }
   ],
   "source": [
    "thirdList = ['great', 'really good', 'historic', 'GOAT', 'Vice goat', 'supernatural', 'best shooter ever']\n",
    "test = dict(zip(anotherlist, thirdList))\n",
    "print(test)\n",
    "print('\\n')\n",
    "print(test.keys())\n",
    "print(test.values())\n",
    "print(test.items())\n",
    "\n",
    "test[\"Barkley\"] = \"Round mound of rebound\"\n",
    "print(test)\n",
    "\n",
    "print(test.get(\"Jordan\"))"
   ]
  },
  {
   "cell_type": "markdown",
   "metadata": {},
   "source": [
    "##Math stuff"
   ]
  },
  {
   "cell_type": "code",
   "execution_count": 32,
   "metadata": {
    "collapsed": false
   },
   "outputs": [
    {
     "name": "stdout",
     "output_type": "stream",
     "text": [
      "1.6666666666666667\n",
      "1\n",
      "2\n",
      "125\n",
      "5\n"
     ]
    }
   ],
   "source": [
    "print(5 / 3)\n",
    "print(5 // 3)\n",
    "print(5 % 3)\n",
    "print(5**3)\n",
    "print(int('101', 2))\n"
   ]
  },
  {
   "cell_type": "markdown",
   "metadata": {},
   "source": [
    "##Sets"
   ]
  },
  {
   "cell_type": "code",
   "execution_count": 40,
   "metadata": {
    "collapsed": false
   },
   "outputs": [
    {
     "name": "stdout",
     "output_type": "stream",
     "text": [
      "{'stuff', 'a lot more stuff', 'more stuff'}\n",
      "{'stuff', 'some stuff'}\n",
      "{'stuff'}\n",
      "{'stuff', 'some stuff', 'a lot more stuff', 'more stuff'}\n",
      "{'more stuff', 'a lot more stuff'}\n"
     ]
    }
   ],
   "source": [
    "set1 = set((\"stuff\", \"more stuff\", \"a lot more stuff\"))\n",
    "set2 = set((\"stuff\", \"some stuff\"))\n",
    "\n",
    "print(set1)\n",
    "print(set2)\n",
    "\n",
    "print(set1 & set2)\n",
    "print(set1 | set2)\n",
    "print(set1 - set2)"
   ]
  },
  {
   "cell_type": "markdown",
   "metadata": {},
   "source": [
    "##Comprehensions"
   ]
  },
  {
   "cell_type": "code",
   "execution_count": 49,
   "metadata": {
    "collapsed": false
   },
   "outputs": [
    {
     "name": "stdout",
     "output_type": "stream",
     "text": [
      "[1, 3, 5, 7, 9, 11, 13, 15, 17, 19, 21]\n",
      "[(0, 0), (0, 1), (0, 2), (1, 0), (1, 1), (1, 2), (2, 0), (2, 1), (2, 2)]\n",
      "0 0\n",
      "0 1\n",
      "0 2\n",
      "1 0\n",
      "1 1\n",
      "1 2\n",
      "2 0\n",
      "2 1\n",
      "2 2\n",
      "{'J': 1, 'i': 1, 'n': 1, 'l': 1, 'c': 1, 'q': 1, 'e': 2, 'a': 1, 'u': 1}\n"
     ]
    }
   ],
   "source": [
    "test = [thing for thing in range(23) if thing % 2 ==1]\n",
    "print(test)\n",
    "\n",
    "test = [(thing1, thing2) for thing1 in range(3) for thing2 in range(3)]\n",
    "print(test)\n",
    "\n",
    "for thing1, thing2 in test:\n",
    "    print(thing1, thing2)\n",
    "    \n",
    "word = \"Jacqueline\"\n",
    "testDict = {letter: word.count(letter) for letter in set(word)}\n",
    "print(testDict)"
   ]
  },
  {
   "cell_type": "code",
   "execution_count": 50,
   "metadata": {
    "collapsed": false
   },
   "outputs": [
    {
     "name": "stdout",
     "output_type": "stream",
     "text": [
      "The Zen of Python, by Tim Peters\n",
      "\n",
      "Beautiful is better than ugly.\n",
      "Explicit is better than implicit.\n",
      "Simple is better than complex.\n",
      "Complex is better than complicated.\n",
      "Flat is better than nested.\n",
      "Sparse is better than dense.\n",
      "Readability counts.\n",
      "Special cases aren't special enough to break the rules.\n",
      "Although practicality beats purity.\n",
      "Errors should never pass silently.\n",
      "Unless explicitly silenced.\n",
      "In the face of ambiguity, refuse the temptation to guess.\n",
      "There should be one-- and preferably only one --obvious way to do it.\n",
      "Although that way may not be obvious at first unless you're Dutch.\n",
      "Now is better than never.\n",
      "Although never is often better than *right* now.\n",
      "If the implementation is hard to explain, it's a bad idea.\n",
      "If the implementation is easy to explain, it may be a good idea.\n",
      "Namespaces are one honking great idea -- let's do more of those!\n"
     ]
    }
   ],
   "source": [
    "import this"
   ]
  },
  {
   "cell_type": "code",
   "execution_count": 65,
   "metadata": {
    "collapsed": false
   },
   "outputs": [],
   "source": [
    "list.mro?\n",
    "\n"
   ]
  }
 ],
 "metadata": {
  "kernelspec": {
   "display_name": "Python 3",
   "language": "python",
   "name": "python3"
  },
  "language_info": {
   "codemirror_mode": {
    "name": "ipython",
    "version": 3
   },
   "file_extension": ".py",
   "mimetype": "text/x-python",
   "name": "python",
   "nbconvert_exporter": "python",
   "pygments_lexer": "ipython3",
   "version": "3.3.5"
  }
 },
 "nbformat": 4,
 "nbformat_minor": 0
}
